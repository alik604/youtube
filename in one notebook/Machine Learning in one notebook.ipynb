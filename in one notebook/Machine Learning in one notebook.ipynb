{
  "nbformat": 4,
  "nbformat_minor": 0,
  "metadata": {
    "colab": {
      "name": "Machine Learning in one notebook",
      "provenance": [],
      "collapsed_sections": []
    },
    "kernelspec": {
      "name": "python3",
      "display_name": "Python 3"
    },
    "accelerator": "GPU"
  },
  "cells": [
    {
      "cell_type": "code",
      "metadata": {
        "id": "GXwAoGsvtlvq",
        "colab_type": "code",
        "colab": {}
      },
      "source": [
        "import numpy as np\n",
        "import pandas as pd\n",
        "\n",
        "# run later, causes issuse with malplotlib \n",
        "# from IPython.core.interactiveshell import InteractiveShell # multiline output, so `x` does `print(x)`\n",
        "# InteractiveShell.ast_node_interactivity = \"all\""
      ],
      "execution_count": null,
      "outputs": []
    },
    {
      "cell_type": "markdown",
      "metadata": {
        "id": "FMlZEhnwttgZ",
        "colab_type": "text"
      },
      "source": [
        "Read more on the basics to [NumPy - 'C style arrays in python'](https://numpy.org/doc/1.18/numpy-user.pdf#page=11) | [Linear Algebra](https://docs.scipy.org/doc/numpy/reference/routines.linalg.html) \n",
        "\n",
        "Read more on [Pandas - 'excel in python'](https://www.datacamp.com/community/tutorials/pandas-tutorial-dataframe-python) | [Docs](https://pandas.pydata.org/docs/getting_started/index.html#intro-to-pandas) | [Cheat sheet](https://pandas.pydata.org/Pandas_Cheat_Sheet.pdf)\n",
        "* 2D Arrays, `df.plot()` \n",
        "\n",
        "Read more about [SciPy](https://docs.scipy.org/doc/scipy/reference/#tutorial)\n",
        "* Calculus, Optimization, Signal processing, FFT, statistics\n",
        "\n",
        "Read more on [MatPlotLib - 'ugly but functional plots'](https://matplotlib.org/3.2.1/tutorials/index.html) | [Docs 3rd party](https://realpython.com/python-matplotlib-guide/)\n"
      ]
    },
    {
      "cell_type": "code",
      "metadata": {
        "id": "1gTUiShAttqR",
        "colab_type": "code",
        "colab": {
          "base_uri": "https://localhost:8080/",
          "height": 90
        },
        "outputId": "5ac4250c-4d4d-42bd-f69e-864850417d9c"
      },
      "source": [
        "numbers = [1, 2, 3, 4, 5, 6, 7, 8, 9, 10]\n",
        "# output = []\n",
        "print('Numbers:', numbers)\n",
        "\n",
        "for number in numbers: \n",
        "  number = number * number \n",
        "  # output.append(number)\n",
        "\n",
        "print('Numbers^2: ', numbers)\n",
        "# print('Output:  ', output)\n",
        "# numbers = output\n",
        "\n",
        "# or \n",
        "\n",
        "numbers_list_comprehension = [number**2 for number in numbers]\n",
        "print('Numbers^2 with list comprehension syntax: \\n\\t   ', numbers_list_comprehension)"
      ],
      "execution_count": null,
      "outputs": [
        {
          "output_type": "stream",
          "text": [
            "Numbers: [1, 2, 3, 4, 5, 6, 7, 8, 9, 10]\n",
            "Numbers^2:  [1, 2, 3, 4, 5, 6, 7, 8, 9, 10]\n",
            "Numbers^2 with list comprehension syntax: \n",
            "\t    [1, 4, 9, 16, 25, 36, 49, 64, 81, 100]\n"
          ],
          "name": "stdout"
        }
      ]
    },
    {
      "cell_type": "code",
      "metadata": {
        "id": "NdhENmRttttg",
        "colab_type": "code",
        "colab": {
          "base_uri": "https://localhost:8080/",
          "height": 35
        },
        "outputId": "3890784d-86a4-46ad-90e0-a06ca3baf72b"
      },
      "source": [
        "# print(len(numbers)) # 10\n",
        "# print(range(5))     # range(0, 5)\n",
        "\n",
        "for idx in range(len(numbers)): \n",
        "  numbers[idx] = numbers[idx] * numbers[idx]\n",
        "print('Numbers: ', numbers)"
      ],
      "execution_count": null,
      "outputs": [
        {
          "output_type": "stream",
          "text": [
            "Numbers:  [1, 4, 9, 16, 25, 36, 49, 64, 81, 100]\n"
          ],
          "name": "stdout"
        }
      ]
    },
    {
      "cell_type": "markdown",
      "metadata": {
        "id": "LC6h2slfvP7d",
        "colab_type": "text"
      },
      "source": [
        "This is the \"C style for loop\". \n",
        "\n",
        "while this first is a \"for-each loop\", it is seen in other languages too, it is [sometimes faster](https://stackoverflow.com/a/256861/5728614)"
      ]
    },
    {
      "cell_type": "markdown",
      "metadata": {
        "id": "NNlTd7bvahL1",
        "colab_type": "text"
      },
      "source": [
        "```\n",
        "len([1,2,3,4,5])+1 \n",
        "\n",
        "len([1,2,3,4,5] + 1) # error... less obvious len(myList+1)\n",
        "# error is suppressed pandas, be careful\n",
        "```"
      ]
    },
    {
      "cell_type": "code",
      "metadata": {
        "id": "fbFLAh-4weE_",
        "colab_type": "code",
        "colab": {
          "base_uri": "https://localhost:8080/",
          "height": 54
        },
        "outputId": "be7942de-9b18-4dee-ff94-257f261c6f8b"
      },
      "source": [
        "n = [1,1,1,1,1,2,2,2,2,2,3,3,4]\n",
        "print(set(n), ' remove duplicates')\n",
        "print(len(set(n)), '\\t      unique elements')"
      ],
      "execution_count": null,
      "outputs": [
        {
          "output_type": "stream",
          "text": [
            "{1, 2, 3, 4}  remove duplicates\n",
            "4 \t      unique elements\n"
          ],
          "name": "stdout"
        }
      ]
    },
    {
      "cell_type": "markdown",
      "metadata": {
        "id": "9CN9A4OtuHcx",
        "colab_type": "text"
      },
      "source": [
        "## Numpy lets us do vectorized operations on the CPU"
      ]
    },
    {
      "cell_type": "code",
      "metadata": {
        "id": "Jx89FQUHttwp",
        "colab_type": "code",
        "colab": {
          "base_uri": "https://localhost:8080/",
          "height": 108
        },
        "outputId": "2bb45607-92a6-44df-81c7-8d66922a9ad3"
      },
      "source": [
        "try: \n",
        "  print(numbers/10) # Python list \n",
        "except Exception as e:\n",
        "  print(e)\n",
        "  print(\"Error: unsupported operand type(s) for /: 'list' and 'int'   \\nWe cant divide a list by a number\\n\")\n",
        "\n",
        "\n",
        "print('However, we can in NumPy:', np.array(numbers)/10)"
      ],
      "execution_count": null,
      "outputs": [
        {
          "output_type": "stream",
          "text": [
            "unsupported operand type(s) for /: 'list' and 'int'\n",
            "Error: unsupported operand type(s) for /: 'list' and 'int'   \n",
            "We cant divide a list by a number\n",
            "\n",
            "However, we can in NumPy: [ 0.1  0.4  0.9  1.6  2.5  3.6  4.9  6.4  8.1 10. ]\n"
          ],
          "name": "stdout"
        }
      ]
    },
    {
      "cell_type": "markdown",
      "metadata": {
        "id": "1WF65kGIttz4",
        "colab_type": "text"
      },
      "source": [
        "for lists and NumPy, [Python List Comprehension syntax is much faster](https://www.programiz.com/python-programming/list-comprehension) but less versatile.\n",
        "\n",
        "Othen its faster to apply a [Lamba](https://towardsdatascience.com/apply-and-lambda-usage-in-pandas-b13a1ea037f7) \n",
        "\n",
        "C++ syle programing is often a 'bad' way to do things\n",
        "\n",
        "<img src=\"https://i.imgur.com/FPbPsLO.png \" alt=\"drawing\" width=\"300\"/>\n",
        "\n",
        "Lets Go over\n",
        "\n",
        "*   Pandas\n",
        "*   Numpy\n",
        "*   CuPy\n",
        "\n",
        "A DataFrame is a construct for a 2D array (Matrix)\n"
      ]
    },
    {
      "cell_type": "code",
      "metadata": {
        "id": "aB-Vx88mtt3Q",
        "colab_type": "code",
        "colab": {}
      },
      "source": [
        "%%capture\n",
        "#hide prints\n",
        "\n",
        "!pip install yfinance\n",
        "import yfinance"
      ],
      "execution_count": null,
      "outputs": []
    },
    {
      "cell_type": "code",
      "metadata": {
        "id": "47SyPIi0tt6k",
        "colab_type": "code",
        "colab": {
          "base_uri": "https://localhost:8080/",
          "height": 246
        },
        "outputId": "7d3c31ae-199b-48a0-e37d-6bdf15be712e"
      },
      "source": [
        "df = yfinance.download(\"t.to\") # T is AT&T\n",
        "# df.tail(5)\n",
        "df.head(5)"
      ],
      "execution_count": null,
      "outputs": [
        {
          "output_type": "stream",
          "text": [
            "\r[*********************100%***********************]  1 of 1 completed\n"
          ],
          "name": "stdout"
        },
        {
          "output_type": "execute_result",
          "data": {
            "text/html": [
              "<div>\n",
              "<style scoped>\n",
              "    .dataframe tbody tr th:only-of-type {\n",
              "        vertical-align: middle;\n",
              "    }\n",
              "\n",
              "    .dataframe tbody tr th {\n",
              "        vertical-align: top;\n",
              "    }\n",
              "\n",
              "    .dataframe thead th {\n",
              "        text-align: right;\n",
              "    }\n",
              "</style>\n",
              "<table border=\"1\" class=\"dataframe\">\n",
              "  <thead>\n",
              "    <tr style=\"text-align: right;\">\n",
              "      <th></th>\n",
              "      <th>Open</th>\n",
              "      <th>High</th>\n",
              "      <th>Low</th>\n",
              "      <th>Close</th>\n",
              "      <th>Adj Close</th>\n",
              "      <th>Volume</th>\n",
              "    </tr>\n",
              "    <tr>\n",
              "      <th>Date</th>\n",
              "      <th></th>\n",
              "      <th></th>\n",
              "      <th></th>\n",
              "      <th></th>\n",
              "      <th></th>\n",
              "      <th></th>\n",
              "    </tr>\n",
              "  </thead>\n",
              "  <tbody>\n",
              "    <tr>\n",
              "      <th>1995-01-12</th>\n",
              "      <td>5.9375</td>\n",
              "      <td>5.9375</td>\n",
              "      <td>5.8450</td>\n",
              "      <td>5.9075</td>\n",
              "      <td>2.139365</td>\n",
              "      <td>394400</td>\n",
              "    </tr>\n",
              "    <tr>\n",
              "      <th>1995-01-13</th>\n",
              "      <td>5.9375</td>\n",
              "      <td>5.9375</td>\n",
              "      <td>5.7825</td>\n",
              "      <td>5.8125</td>\n",
              "      <td>2.104961</td>\n",
              "      <td>76000</td>\n",
              "    </tr>\n",
              "    <tr>\n",
              "      <th>1995-01-16</th>\n",
              "      <td>5.8125</td>\n",
              "      <td>5.8450</td>\n",
              "      <td>5.7825</td>\n",
              "      <td>5.8125</td>\n",
              "      <td>2.104961</td>\n",
              "      <td>70400</td>\n",
              "    </tr>\n",
              "    <tr>\n",
              "      <th>1995-01-17</th>\n",
              "      <td>5.7825</td>\n",
              "      <td>5.7825</td>\n",
              "      <td>5.6875</td>\n",
              "      <td>5.7500</td>\n",
              "      <td>2.082326</td>\n",
              "      <td>112400</td>\n",
              "    </tr>\n",
              "    <tr>\n",
              "      <th>1995-01-18</th>\n",
              "      <td>5.6875</td>\n",
              "      <td>5.7200</td>\n",
              "      <td>5.6875</td>\n",
              "      <td>5.6875</td>\n",
              "      <td>2.059691</td>\n",
              "      <td>60800</td>\n",
              "    </tr>\n",
              "  </tbody>\n",
              "</table>\n",
              "</div>"
            ],
            "text/plain": [
              "              Open    High     Low   Close  Adj Close  Volume\n",
              "Date                                                         \n",
              "1995-01-12  5.9375  5.9375  5.8450  5.9075   2.139365  394400\n",
              "1995-01-13  5.9375  5.9375  5.7825  5.8125   2.104961   76000\n",
              "1995-01-16  5.8125  5.8450  5.7825  5.8125   2.104961   70400\n",
              "1995-01-17  5.7825  5.7825  5.6875  5.7500   2.082326  112400\n",
              "1995-01-18  5.6875  5.7200  5.6875  5.6875   2.059691   60800"
            ]
          },
          "metadata": {
            "tags": []
          },
          "execution_count": 7
        }
      ]
    },
    {
      "cell_type": "code",
      "metadata": {
        "id": "0RLJfkHFydLi",
        "colab_type": "code",
        "colab": {
          "base_uri": "https://localhost:8080/",
          "height": 288
        },
        "outputId": "b8cb26bb-781a-48f3-f238-517519e09a56"
      },
      "source": [
        "df.describe()\n",
        "# df.corr()"
      ],
      "execution_count": null,
      "outputs": [
        {
          "output_type": "execute_result",
          "data": {
            "text/html": [
              "<div>\n",
              "<style scoped>\n",
              "    .dataframe tbody tr th:only-of-type {\n",
              "        vertical-align: middle;\n",
              "    }\n",
              "\n",
              "    .dataframe tbody tr th {\n",
              "        vertical-align: top;\n",
              "    }\n",
              "\n",
              "    .dataframe thead th {\n",
              "        text-align: right;\n",
              "    }\n",
              "</style>\n",
              "<table border=\"1\" class=\"dataframe\">\n",
              "  <thead>\n",
              "    <tr style=\"text-align: right;\">\n",
              "      <th></th>\n",
              "      <th>Open</th>\n",
              "      <th>High</th>\n",
              "      <th>Low</th>\n",
              "      <th>Close</th>\n",
              "      <th>Adj Close</th>\n",
              "      <th>Volume</th>\n",
              "    </tr>\n",
              "  </thead>\n",
              "  <tbody>\n",
              "    <tr>\n",
              "      <th>count</th>\n",
              "      <td>6414.000000</td>\n",
              "      <td>6414.000000</td>\n",
              "      <td>6414.000000</td>\n",
              "      <td>6414.000000</td>\n",
              "      <td>6414.000000</td>\n",
              "      <td>6.414000e+03</td>\n",
              "    </tr>\n",
              "    <tr>\n",
              "      <th>mean</th>\n",
              "      <td>12.970495</td>\n",
              "      <td>13.092584</td>\n",
              "      <td>12.864279</td>\n",
              "      <td>12.981911</td>\n",
              "      <td>9.031048</td>\n",
              "      <td>2.327247e+06</td>\n",
              "    </tr>\n",
              "    <tr>\n",
              "      <th>std</th>\n",
              "      <td>6.245854</td>\n",
              "      <td>6.277219</td>\n",
              "      <td>6.222063</td>\n",
              "      <td>6.249906</td>\n",
              "      <td>6.686632</td>\n",
              "      <td>2.512064e+06</td>\n",
              "    </tr>\n",
              "    <tr>\n",
              "      <th>min</th>\n",
              "      <td>1.750000</td>\n",
              "      <td>1.772500</td>\n",
              "      <td>1.440000</td>\n",
              "      <td>1.525000</td>\n",
              "      <td>0.760416</td>\n",
              "      <td>0.000000e+00</td>\n",
              "    </tr>\n",
              "    <tr>\n",
              "      <th>25%</th>\n",
              "      <td>8.037500</td>\n",
              "      <td>8.126875</td>\n",
              "      <td>7.950000</td>\n",
              "      <td>8.025000</td>\n",
              "      <td>3.747595</td>\n",
              "      <td>1.056550e+06</td>\n",
              "    </tr>\n",
              "    <tr>\n",
              "      <th>50%</th>\n",
              "      <td>11.225000</td>\n",
              "      <td>11.362500</td>\n",
              "      <td>11.125000</td>\n",
              "      <td>11.247500</td>\n",
              "      <td>6.194226</td>\n",
              "      <td>1.903800e+06</td>\n",
              "    </tr>\n",
              "    <tr>\n",
              "      <th>75%</th>\n",
              "      <td>18.758750</td>\n",
              "      <td>18.940001</td>\n",
              "      <td>18.628749</td>\n",
              "      <td>18.780001</td>\n",
              "      <td>14.535185</td>\n",
              "      <td>2.913200e+06</td>\n",
              "    </tr>\n",
              "    <tr>\n",
              "      <th>max</th>\n",
              "      <td>27.549999</td>\n",
              "      <td>27.740000</td>\n",
              "      <td>27.459999</td>\n",
              "      <td>27.674999</td>\n",
              "      <td>27.021269</td>\n",
              "      <td>6.230600e+07</td>\n",
              "    </tr>\n",
              "  </tbody>\n",
              "</table>\n",
              "</div>"
            ],
            "text/plain": [
              "              Open         High  ...    Adj Close        Volume\n",
              "count  6414.000000  6414.000000  ...  6414.000000  6.414000e+03\n",
              "mean     12.970495    13.092584  ...     9.031048  2.327247e+06\n",
              "std       6.245854     6.277219  ...     6.686632  2.512064e+06\n",
              "min       1.750000     1.772500  ...     0.760416  0.000000e+00\n",
              "25%       8.037500     8.126875  ...     3.747595  1.056550e+06\n",
              "50%      11.225000    11.362500  ...     6.194226  1.903800e+06\n",
              "75%      18.758750    18.940001  ...    14.535185  2.913200e+06\n",
              "max      27.549999    27.740000  ...    27.021269  6.230600e+07\n",
              "\n",
              "[8 rows x 6 columns]"
            ]
          },
          "metadata": {
            "tags": []
          },
          "execution_count": 10
        }
      ]
    },
    {
      "cell_type": "code",
      "metadata": {
        "id": "ie0FU5iQGcEK",
        "colab_type": "code",
        "colab": {}
      },
      "source": [
        "# file location, local or URL.... raw CSV on github. Avoid Kaggle's API  ;) \n",
        "# pandas.read_csv\n",
        "\n",
        "# hit CTRL + Space\n",
        "# df.to_"
      ],
      "execution_count": null,
      "outputs": []
    },
    {
      "cell_type": "code",
      "metadata": {
        "id": "2GswW7gStt9p",
        "colab_type": "code",
        "colab": {
          "base_uri": "https://localhost:8080/",
          "height": 126
        },
        "outputId": "243afd36-7542-43e2-e769-856119033a4b"
      },
      "source": [
        "close = df.Close #  same as df['Close']\n",
        "\n",
        "print(type(df))\n",
        "print(type(close))\n",
        "print(type(close.values))\n",
        "\n",
        "assert df.shape == df.values.shape # Hence, True \n",
        "print(df.values.shape) # df.values is a quick way to get a 2d array\n",
        "print(df.values[:1]) # df.values is a quick way to get a 2d array"
      ],
      "execution_count": null,
      "outputs": [
        {
          "output_type": "stream",
          "text": [
            "<class 'pandas.core.frame.DataFrame'>\n",
            "<class 'pandas.core.series.Series'>\n",
            "<class 'numpy.ndarray'>\n",
            "(6414, 6)\n",
            "[[5.93750000e+00 5.93750000e+00 5.84499979e+00 5.90749979e+00\n",
            "  2.13936496e+00 3.94400000e+05]]\n"
          ],
          "name": "stdout"
        }
      ]
    },
    {
      "cell_type": "code",
      "metadata": {
        "id": "GpcEsDY-tuAw",
        "colab_type": "code",
        "colab": {
          "base_uri": "https://localhost:8080/",
          "height": 355
        },
        "outputId": "8564d622-8249-4d90-8eca-d8a8062575bf"
      },
      "source": [
        "# df.plot() #all columns (feature vectors) \n",
        "close.plot(figsize=(14,5))\n",
        "\n",
        "# close = close.to_list()\n",
        "close = close.to_numpy() # now we lost the time axis :'(\n",
        "close[:10]"
      ],
      "execution_count": null,
      "outputs": [
        {
          "output_type": "execute_result",
          "data": {
            "text/plain": [
              "array([5.90749979, 5.8125    , 5.8125    , 5.75      , 5.6875    ,\n",
              "       5.6875    , 5.6875    , 5.5625    , 5.625     , 5.78249979])"
            ]
          },
          "metadata": {
            "tags": []
          },
          "execution_count": 25
        },
        {
          "output_type": "display_data",
          "data": {
            "image/png": "[encoded data removed]",
            "text/plain": [
              "<Figure size 1008x360 with 1 Axes>"
            ]
          },
          "metadata": {
            "tags": [],
            "needs_background": "light"
          }
        }
      ]
    },
    {
      "cell_type": "code",
      "metadata": {
        "id": "j37ktQLT1B9u",
        "colab_type": "code",
        "colab": {}
      },
      "source": [
        "close # dont worry, be can stick it back in the DF to get back time... for plotting purposes\n",
        "#do_stuff_to_close()\n",
        "df['close_V2'] = close "
      ],
      "execution_count": null,
      "outputs": []
    },
    {
      "cell_type": "code",
      "metadata": {
        "id": "XGYoiexZ1gM5",
        "colab_type": "code",
        "colab": {
          "base_uri": "https://localhost:8080/",
          "height": 168
        },
        "outputId": "eaa799ad-70bb-4487-bcc3-8afd20bc4b3f"
      },
      "source": [
        "df.head(3)"
      ],
      "execution_count": null,
      "outputs": [
        {
          "output_type": "execute_result",
          "data": {
            "text/html": [
              "<div>\n",
              "<style scoped>\n",
              "    .dataframe tbody tr th:only-of-type {\n",
              "        vertical-align: middle;\n",
              "    }\n",
              "\n",
              "    .dataframe tbody tr th {\n",
              "        vertical-align: top;\n",
              "    }\n",
              "\n",
              "    .dataframe thead th {\n",
              "        text-align: right;\n",
              "    }\n",
              "</style>\n",
              "<table border=\"1\" class=\"dataframe\">\n",
              "  <thead>\n",
              "    <tr style=\"text-align: right;\">\n",
              "      <th></th>\n",
              "      <th>Open</th>\n",
              "      <th>High</th>\n",
              "      <th>Low</th>\n",
              "      <th>Close</th>\n",
              "      <th>Adj Close</th>\n",
              "      <th>Volume</th>\n",
              "      <th>close_V2</th>\n",
              "    </tr>\n",
              "    <tr>\n",
              "      <th>Date</th>\n",
              "      <th></th>\n",
              "      <th></th>\n",
              "      <th></th>\n",
              "      <th></th>\n",
              "      <th></th>\n",
              "      <th></th>\n",
              "      <th></th>\n",
              "    </tr>\n",
              "  </thead>\n",
              "  <tbody>\n",
              "    <tr>\n",
              "      <th>1995-01-12</th>\n",
              "      <td>5.9375</td>\n",
              "      <td>5.9375</td>\n",
              "      <td>5.8450</td>\n",
              "      <td>5.9075</td>\n",
              "      <td>2.139365</td>\n",
              "      <td>394400</td>\n",
              "      <td>5.9075</td>\n",
              "    </tr>\n",
              "    <tr>\n",
              "      <th>1995-01-13</th>\n",
              "      <td>5.9375</td>\n",
              "      <td>5.9375</td>\n",
              "      <td>5.7825</td>\n",
              "      <td>5.8125</td>\n",
              "      <td>2.104961</td>\n",
              "      <td>76000</td>\n",
              "      <td>5.8125</td>\n",
              "    </tr>\n",
              "    <tr>\n",
              "      <th>1995-01-16</th>\n",
              "      <td>5.8125</td>\n",
              "      <td>5.8450</td>\n",
              "      <td>5.7825</td>\n",
              "      <td>5.8125</td>\n",
              "      <td>2.104961</td>\n",
              "      <td>70400</td>\n",
              "      <td>5.8125</td>\n",
              "    </tr>\n",
              "  </tbody>\n",
              "</table>\n",
              "</div>"
            ],
            "text/plain": [
              "              Open    High     Low   Close  Adj Close  Volume  close_V2\n",
              "Date                                                                   \n",
              "1995-01-12  5.9375  5.9375  5.8450  5.9075   2.139365  394400    5.9075\n",
              "1995-01-13  5.9375  5.9375  5.7825  5.8125   2.104961   76000    5.8125\n",
              "1995-01-16  5.8125  5.8450  5.7825  5.8125   2.104961   70400    5.8125"
            ]
          },
          "metadata": {
            "tags": []
          },
          "execution_count": 30
        }
      ]
    },
    {
      "cell_type": "code",
      "metadata": {
        "id": "fyuTDZ9cwz7l",
        "colab_type": "code",
        "colab": {
          "base_uri": "https://localhost:8080/",
          "height": 168
        },
        "outputId": "25b112a2-9841-4c74-ca9f-f3a46a041cfa"
      },
      "source": [
        "df.tail(3)"
      ],
      "execution_count": null,
      "outputs": [
        {
          "output_type": "execute_result",
          "data": {
            "text/html": [
              "<div>\n",
              "<style scoped>\n",
              "    .dataframe tbody tr th:only-of-type {\n",
              "        vertical-align: middle;\n",
              "    }\n",
              "\n",
              "    .dataframe tbody tr th {\n",
              "        vertical-align: top;\n",
              "    }\n",
              "\n",
              "    .dataframe thead th {\n",
              "        text-align: right;\n",
              "    }\n",
              "</style>\n",
              "<table border=\"1\" class=\"dataframe\">\n",
              "  <thead>\n",
              "    <tr style=\"text-align: right;\">\n",
              "      <th></th>\n",
              "      <th>Open</th>\n",
              "      <th>High</th>\n",
              "      <th>Low</th>\n",
              "      <th>Close</th>\n",
              "      <th>Adj Close</th>\n",
              "      <th>Volume</th>\n",
              "      <th>close_V2</th>\n",
              "    </tr>\n",
              "    <tr>\n",
              "      <th>Date</th>\n",
              "      <th></th>\n",
              "      <th></th>\n",
              "      <th></th>\n",
              "      <th></th>\n",
              "      <th></th>\n",
              "      <th></th>\n",
              "      <th></th>\n",
              "    </tr>\n",
              "  </thead>\n",
              "  <tbody>\n",
              "    <tr>\n",
              "      <th>2020-07-14</th>\n",
              "      <td>22.690001</td>\n",
              "      <td>23.200001</td>\n",
              "      <td>22.690001</td>\n",
              "      <td>23.160000</td>\n",
              "      <td>23.160000</td>\n",
              "      <td>2228500</td>\n",
              "      <td>23.160000</td>\n",
              "    </tr>\n",
              "    <tr>\n",
              "      <th>2020-07-15</th>\n",
              "      <td>23.230000</td>\n",
              "      <td>23.570000</td>\n",
              "      <td>23.230000</td>\n",
              "      <td>23.549999</td>\n",
              "      <td>23.549999</td>\n",
              "      <td>2162300</td>\n",
              "      <td>23.549999</td>\n",
              "    </tr>\n",
              "    <tr>\n",
              "      <th>2020-07-16</th>\n",
              "      <td>23.410000</td>\n",
              "      <td>23.920000</td>\n",
              "      <td>23.410000</td>\n",
              "      <td>23.879999</td>\n",
              "      <td>23.879999</td>\n",
              "      <td>1833100</td>\n",
              "      <td>23.879999</td>\n",
              "    </tr>\n",
              "  </tbody>\n",
              "</table>\n",
              "</div>"
            ],
            "text/plain": [
              "                 Open       High        Low  ...  Adj Close   Volume   close_V2\n",
              "Date                                         ...                               \n",
              "2020-07-14  22.690001  23.200001  22.690001  ...  23.160000  2228500  23.160000\n",
              "2020-07-15  23.230000  23.570000  23.230000  ...  23.549999  2162300  23.549999\n",
              "2020-07-16  23.410000  23.920000  23.410000  ...  23.879999  1833100  23.879999\n",
              "\n",
              "[3 rows x 7 columns]"
            ]
          },
          "metadata": {
            "tags": []
          },
          "execution_count": 29
        }
      ]
    },
    {
      "cell_type": "code",
      "metadata": {
        "id": "cXwKev2FDytT",
        "colab_type": "code",
        "colab": {}
      },
      "source": [
        "import matplotlib.pyplot as plt\n",
        "%matplotlib inline\n",
        "# inline images. sometimes needed"
      ],
      "execution_count": null,
      "outputs": []
    },
    {
      "cell_type": "code",
      "metadata": {
        "id": "ZcdegvwJDyv6",
        "colab_type": "code",
        "colab": {
          "base_uri": "https://localhost:8080/",
          "height": 295
        },
        "outputId": "c6e4f0d4-18cd-42f4-d6a8-8db0d0062ea4"
      },
      "source": [
        "plt.figure(figsize=(18,4))\n",
        "\n",
        "plt.title('SPX')\n",
        "plt.xlabel('idx')\n",
        "plt.ylabel('Price')\n",
        "plt.plot(close)\n",
        "\n",
        "plt.show()\n",
        "\n",
        "# This code below caused title and labels to not work... or be printed twice....  \n",
        "from IPython.core.interactiveshell import InteractiveShell # multiline output, so `x` does `print(x)`\n",
        "InteractiveShell.ast_node_interactivity = \"all\"\n",
        "\n",
        "import cupy\n",
        "cupy.cuda.Device(0).use() # to select device, if you have multiple GPUs"
      ],
      "execution_count": null,
      "outputs": [
        {
          "output_type": "display_data",
          "data": {
            "image/png": "[encoded data removed]",
            "text/plain": [
              "<Figure size 1296x288 with 1 Axes>"
            ]
          },
          "metadata": {
            "tags": [],
            "needs_background": "light"
          }
        }
      ]
    },
    {
      "cell_type": "code",
      "metadata": {
        "id": "ZoHQzwmuDyyy",
        "colab_type": "code",
        "colab": {
          "base_uri": "https://localhost:8080/",
          "height": 35
        },
        "outputId": "90ae3eb6-273a-4c21-fe9b-2dc8396af874"
      },
      "source": [
        "np_range = np.arange(100000000)   # lives on  the CPU [0...100000000)\n",
        "cp_range = cupy.arange(100000000) # lives on  the GPU \n",
        "print(np_range) # 100,000,000\n",
        "\n",
        "#1. scale a vector\n",
        "#2. Pythagorean theorem in 100,000,000 dimensions "
      ],
      "execution_count": null,
      "outputs": [
        {
          "output_type": "stream",
          "text": [
            "[       0        1        2 ... 99999997 99999998 99999999]\n"
          ],
          "name": "stdout"
        }
      ]
    },
    {
      "cell_type": "code",
      "metadata": {
        "id": "tt0L7DD5Dy1u",
        "colab_type": "code",
        "colab": {}
      },
      "source": [
        "output = 9999999999999999999 * np_range\n",
        "output = 9888888888888888888 * np_range\n",
        "output = 9777777777777777777 * np_range"
      ],
      "execution_count": null,
      "outputs": []
    },
    {
      "cell_type": "code",
      "metadata": {
        "id": "kJzb3Lm2IVDy",
        "colab_type": "code",
        "colab": {}
      },
      "source": [
        "output = 9999999999999999999 * cp_range \n",
        "output = 9888888888888888888 * cp_range \n",
        "output = 9777777777777777777 * cp_range \n",
        "\n",
        "# OMG its faster!!!\n",
        "# if I showed with a profiler, we'll see most of the time is spent transferring data to the GPU\n",
        "# output and scaler is on our CPU. "
      ],
      "execution_count": null,
      "outputs": []
    },
    {
      "cell_type": "code",
      "metadata": {
        "id": "NZ_XMezEPYVA",
        "colab_type": "code",
        "colab": {}
      },
      "source": [
        "# %%timeit\n",
        "# np.linalg.norm(np_range) # 1 loop, best of 3: 227 ms per loop"
      ],
      "execution_count": null,
      "outputs": []
    },
    {
      "cell_type": "code",
      "metadata": {
        "id": "aR5NEYBIPedu",
        "colab_type": "code",
        "colab": {}
      },
      "source": [
        "# %%timeit\n",
        "# cupy.linalg.norm(cp_range) # 100 loops, best of 3: 99.7 ms per loop"
      ],
      "execution_count": null,
      "outputs": []
    },
    {
      "cell_type": "markdown",
      "metadata": {
        "id": "YUHaTf9jtuD6",
        "colab_type": "text"
      },
      "source": [
        "[FFT and deTrend demo - SciPy](https://github.com/alik604/Notebooks/blob/master/DSP/Learning_DSP.ipynb)\n",
        "\n",
        "\n",
        "*   [Bettter deTrend - statsmodels.tsa.tsatools.detrend](https://www.statsmodels.org/devel/generated/statsmodels.tsa.tsatools.detrend.html)\n",
        "    * As I recall there is a better method used, and has a better plot. the source code and docs make the two look the same....\n",
        "\n"
      ]
    },
    {
      "cell_type": "markdown",
      "metadata": {
        "id": "Cj-JkKHBUMLm",
        "colab_type": "text"
      },
      "source": [
        "# Now for Machine Leanring\n",
        "\n",
        "<img src=\"https://scikit-learn.org/stable/_static/ml_map.png\" alt=\"drawing\" width=\"900\"/>\n",
        "\n",
        "\n",
        "## Preprocessing - Convert categorical data to numerical data, so we can use ML\n",
        "*   [LabelEncoder](https://scikit-learn.org/stable/modules/generated/sklearn.preprocessing.LabelEncoder.html) Encode target labels with value between 0 and n_classes-1.\n",
        "    + [apple, orange, banana, banana, apple] ->  [1, 2, 3, 3, 1]\n",
        "\n",
        "\n",
        "## Preprocessing - scaling numerical data\n",
        "\n",
        "We want to do this to each column. Not the the row\n",
        "\n",
        "*   [StandardScaler](https://scikit-learn.org/stable/modules/generated/sklearn.preprocessing.StandardScaler.html) is my choice by default `Z = (X_i - Mean) / STD`\n",
        "> Better than MinMax for optimizing a gradient (neural networks)\n",
        "\n",
        "*   [MinMaxScaler](https://scikit-learn.org/stable/modules/generated/sklearn.preprocessing.MinMaxScaler.html#sklearn.preprocessing.MinMaxScaler) `(X - X.min) / (X.max - X.min)` \n",
        "\n",
        "*   [Normalizer](https://scikit-learn.org/stable/modules/generated/sklearn.preprocessing.Normalizer.html#sklearn.preprocessing.Normalizer) \n",
        "      * Normalize **samples** individually to unit norm.\n",
        "> Rescales the data set such that all feature values are in the range [0, 1] as shown in the right panel below. However, this scaling compress all inliers in the narrow range [0, 0.005] for the transformed number of households.\n",
        "\n",
        "*    [Docs - Guide](https://scikit-learn.org/stable/auto_examples/preprocessing/plot_all_scaling.html#powertransformer)\n",
        "      *  PowerTransformer\n",
        "      *  QuantileTransformer \n",
        "\n",
        "<img src=\"https://scikit-learn.org/stable/_images/sphx_glr_plot_all_scaling_002.png\" alt=\"drawing\" width=\"900\"/>\n",
        "<img src=\"https://scikit-learn.org/stable/_images/sphx_glr_plot_all_scaling_003.png\" alt=\"drawing\" width=\"900\"/>\n",
        "\n",
        "\n",
        "## Dimensionality Reduction\n",
        "### Principal component analysis (PCA).\n",
        "\n",
        "Linear dimensionality reduction to project data to a lower dimensional space\n",
        "\n",
        "We run StandardScaler before dimensionality reduction, because: [Why do we need to normalize data before principal component analysis (PCA)?](https://stats.stackexchange.com/a/69159)\n",
        "> (Normalization is important in PCA since) it is a variance maximizing exercise. It projects your original data onto directions which maximize the variance. \n",
        "\n",
        "> My explanation: \"Gaussian is Good\". Good thing about Notebooks is that we can test to see if its a good idea or not\n",
        "\n",
        "The [Occilating movement](https://stats.stackexchange.com/a/427404) might be Gradient Descent (not so fun fact, lots of math in that link, beware) \n",
        "\n",
        "<img src=\"https://miro.medium.com/max/1400/1*XGaA7KWUlhWZLIezYEBIHA.gif\" alt=\"drawing\" width=\"900\" height = \"400\"/>\n",
        "\n",
        "[Why not PCA on all data](https://stackoverflow.com/a/40801571)\n",
        "\n",
        "Note: untested, but according to my intuition, PCA on noisy data (or pure noise) is very bad...  \n",
        "\n",
        "#### Docs - Scikit learn\n",
        "*   [PCA](https://scikit-learn.org/stable/modules/generated/sklearn.decomposition.PCA.html#sklearn.decomposition.PCA)\n",
        "*   [SVD](https://scikit-learn.org/stable/modules/generated/sklearn.decomposition.TruncatedSVD.html#sklearn.decomposition.TruncatedSVD) \n",
        "*   [other](https://scikit-learn.org/stable/modules/classes.html#module-sklearn.decomposition) \n",
        "\n",
        "### Removing data \n",
        "[my Blog post with code link, on this another cyber-sec AD dataset, on dim reduction](https://medium.com/@alik604/dimensionality-reduction-effects-on-model-accuracy-c021f4f33a61) \n",
        "\n",
        "* Remove features with low correlation to feature we want to predict `df.corrwith` \n",
        "* Remove features with (very) low standard deviations `df.std`\n",
        "* Use a Scikit-learn tree's `feature_importances_` to select which to remove\n",
        "\n",
        "...or we just stick to PCA, or other 'decomposition' methods\n",
        "\n",
        "\n",
        "## Train Test split\n",
        "leave out 15-30% of data to see if the model is useful on **unseen** data\n",
        "\n",
        "\n",
        "## Which model\n",
        "\n",
        "Treat it like a black box, dont try to understand everything. Try them all, as the code is **VERY** portable. Dispite running the the CPU, they are (often) very fast "
      ]
    },
    {
      "cell_type": "code",
      "metadata": {
        "id": "ymnM0CNZUMIj",
        "colab_type": "code",
        "colab": {}
      },
      "source": [
        "import sklearn\n",
        "from sklearn.model_selection import train_test_split\n",
        "from sklearn.decomposition import * \n",
        "from sklearn.preprocessing import *\n",
        "from sklearn.tree import DecisionTreeClassifier\n",
        "from sklearn.ensemble import RandomForestClassifier, ExtraTreesClassifier, VotingClassifier\n",
        "import xgboost\n",
        "\n",
        "DLed = False"
      ],
      "execution_count": null,
      "outputs": []
    },
    {
      "cell_type": "markdown",
      "metadata": {
        "id": "rC1Qpy37ZjPP",
        "colab_type": "text"
      },
      "source": [
        "Note that `pd.concat` and `myDataFrame.drop` both take a list, and the latter takes a axis \n",
        "\n",
        "I combine train & test to `combined_data`, so minimize work. \n",
        "\n",
        "Do not `fit` a `scaler` on the test data like I do. this is leaking information. \n",
        "\n"
      ]
    },
    {
      "cell_type": "code",
      "metadata": {
        "id": "pfoL4gGvV_Uv",
        "colab_type": "code",
        "colab": {}
      },
      "source": [
        "if not DLed:\n",
        "    train = pd.read_csv('https://raw.githubusercontent.com/Nir-J/ML-Projects/master/UNSW-Network_Packet_Classification/UNSW_NB15_training-set.csv')\n",
        "    test = pd.read_csv('https://raw.githubusercontent.com/Nir-J/ML-Projects/master/UNSW-Network_Packet_Classification/UNSW_NB15_testing-set.csv')\n",
        "    DLed = True\n",
        "combined_data = pd.concat([train, test]).drop(['id','label'], axis = 1)\n",
        "combined_data.shape \n",
        "combined_data.head(10)"
      ],
      "execution_count": null,
      "outputs": []
    },
    {
      "cell_type": "code",
      "metadata": {
        "id": "3wPi4_qhdXlw",
        "colab_type": "code",
        "colab": {}
      },
      "source": [
        "combined_data.describe() # sinpkt has mean = 912; STD = 6922. I consider this to be odd and a sign of a huge skew. "
      ],
      "execution_count": null,
      "outputs": []
    },
    {
      "cell_type": "code",
      "metadata": {
        "id": "kxaaZvHiV_a5",
        "colab_type": "code",
        "colab": {}
      },
      "source": [
        "tmp = train.where(train['attack_cat'] == \"Normal\").dropna()\n",
        "print('ratio of _Normal_ in Train: ', round(tmp.shape[0]/train.shape[0],5)) # 31% of train data is Normal (not an attack)\n",
        "\n",
        "tmp = test.where(test['attack_cat'] == \"Normal\").dropna()\n",
        "print('ratio of _Normal_ in Test:  ', round(tmp.shape[0]/test.shape[0],5))\n",
        "\n",
        "vector = combined_data['attack_cat']\n",
        "print(\"attack cats:\", list(set(vector))) \n",
        "\n",
        "import collections\n",
        "from tabulate import tabulate # from stack overflow, https://stackoverflow.com/questions/9535954/printing-lists-as-tabular-data\n",
        "counter = collections.Counter(vector)  \n",
        "print(tabulate(counter.most_common(), headers = ['Type','Occurences']))"
      ],
      "execution_count": null,
      "outputs": []
    },
    {
      "cell_type": "code",
      "metadata": {
        "id": "5Tnaq5axoHWM",
        "colab_type": "code",
        "colab": {}
      },
      "source": [
        "s_test = collections.Counter(test['state']).keys()\n",
        "s_train = collections.Counter(train['state']).keys()\n",
        "print('NEW stuff in test set ',set(s_test)-set(s_train))\n",
        "\n",
        "counter = collections.Counter(test['state'])  \n",
        "print(tabulate(counter.most_common(), headers = ['Type','Occurences']))\n",
        "\n",
        "# s_test = collections.Counter(test['service']).keys()\n",
        "# s_train = collections.Counter(train['service']).keys()\n",
        "# print('NEW stuff in test set ',set(s_test)-set(s_train))\n",
        "\n",
        "# s_test = collections.Counter(test['proto']).keys()\n",
        "# s_train = collections.Counter(train['proto']).keys()\n",
        "# print('NEW stuff in test set ',set(s_test)-set(s_train))"
      ],
      "execution_count": null,
      "outputs": []
    },
    {
      "cell_type": "markdown",
      "metadata": {
        "id": "AkIlF-pLgSjm",
        "colab_type": "text"
      },
      "source": [
        "### Fixing data (\"feature engineering\") \n",
        "\n",
        "we have unseen data in the test. \n",
        "\n",
        "If we are converting categorical data to nemerical, SOMETIMES its ok to fit on test data (don't do this in NLP, \"natural language processing\")\n",
        "#### How to deal with this?\n",
        "\n",
        "if continuous, replace missings or unknown data, with the median, mean, maybe* the mode (probabily not mode...). \n",
        "* if its a time series, you can repair the data with average of nearby points\n",
        "\n",
        "if categorical, replace with the mode (never the mean or the median!) \n",
        "\n",
        "------------\n",
        "\n",
        "### SKlearn functions are simple and **consistent**\n",
        "\n",
        "[Docs - LabelEncoder](https://scikit-learn.org/stable/modules/generated/sklearn.preprocessing.LabelEncoder.html)\n",
        "\n",
        "Fitting to testing data is (often or arguably) leaking information\n",
        "\n",
        "*   fit(x) \n",
        ">  is akin to `map`\n",
        "*   transform(x)   \n",
        "> is akin to `apply map`\n",
        "*   fit_transform(x)\n",
        "> is akin to `map and apply map`\n",
        "*   inverse_transform(_x_)\n",
        "> is akin to `undo mapping`\n",
        "\n",
        "*   predict(X_test)\n",
        "> X_test -> prediction vector\n",
        "\n",
        "*   score(X_test, y_test)\n",
        "> portions of correct prediction\n",
        "\n",
        "* [Metrics to Evaluate your Machine Learning Algorithm](https://towardsdatascience.com/metrics-to-evaluate-your-machine-learning-algorithm-f10ba6e38234) - concise and to the point \n",
        "\n",
        "\n",
        "\n",
        "\n"
      ]
    },
    {
      "cell_type": "code",
      "metadata": {
        "id": "O3dKEoe8eyyY",
        "colab_type": "code",
        "colab": {}
      },
      "source": [
        "combined_data.head(1)\n",
        "\n",
        "columns = combined_data.columns # save\n",
        "categorical = ['attack_cat', 'proto', 'service', 'state']\n",
        "\n",
        "for cat in categorical: # note this type of for-loop is ok here, since we are working on a DataFrame. Python...🙄 \n",
        "  encoder = LabelEncoder()\n",
        "  combined_data[cat] = encoder.fit_transform(combined_data[cat]) # we called fit on test data..... This should be fine*, but we are technically leaking information.\n",
        "  # Test seems to have a unseen class of attack\n",
        "\n",
        "combined_data.head(1)"
      ],
      "execution_count": null,
      "outputs": []
    },
    {
      "cell_type": "markdown",
      "metadata": {
        "id": "-X8tIgKvtnDA",
        "colab_type": "text"
      },
      "source": [
        "\n",
        "```\n",
        "_ = encoder.fit(train[cat]) # \"Returns the instance itself\", mutates `encoder` OBJ \n",
        "train[cat] = encoder.transform(train[cat])\n",
        "test[cat] = encoder.transform(test[cat])\n",
        "```\n",
        "Errror! `y contains previously unseen labels: [131, 132]`. Our train is not representative of our sample\n",
        "* [solution? dont use sklearn... HAHA](https://stackoverflow.com/a/56876351). This person fixed sklearn\n"
      ]
    },
    {
      "cell_type": "code",
      "metadata": {
        "id": "ZblGR9Atrz9k",
        "colab_type": "code",
        "colab": {}
      },
      "source": [
        "y = combined_data['attack_cat']\n",
        "X = combined_data.drop(['attack_cat'], axis = 1)\n",
        "X_train, X_test, y_train, y_test = train_test_split(X, y, test_size= .90, random_state=42) \n",
        "X_train.shape\n",
        "y_train.shape"
      ],
      "execution_count": null,
      "outputs": []
    },
    {
      "cell_type": "code",
      "metadata": {
        "id": "Ek75LGRXfbDf",
        "colab_type": "code",
        "colab": {}
      },
      "source": [
        "# remove categorical \n",
        "categorical = ['proto', 'service', 'state']\n",
        "\n",
        "# pull out the categorical data\n",
        "print('Before: ', X_train.shape[1])\n",
        "\n",
        "train_categorical = X_train[categorical] # X_train[[ 'proto', 'service', 'state']], this is odd syntax if you think in C-style code\n",
        "test_categorical  = X_test[categorical] \n",
        "\n",
        "X_train = X_train.drop(categorical, axis=1)# Column axis \n",
        "X_test  = X_test.drop(categorical, axis=1)\n",
        "\n",
        "print('After: ', train_categorical.shape[1] + X_train.shape[1])"
      ],
      "execution_count": null,
      "outputs": []
    },
    {
      "cell_type": "code",
      "metadata": {
        "id": "sX7rhoUpmj0f",
        "colab_type": "code",
        "colab": {}
      },
      "source": [
        "scaler = StandardScaler()\n",
        "_ = scaler.fit(X_train)\n",
        "X_train = scaler.transform(X_train)\n",
        "X_test = scaler.transform(X_test)\n",
        "\n",
        "pd.DataFrame(X_train).head(3)\n",
        "pd.DataFrame(X_train).shape"
      ],
      "execution_count": null,
      "outputs": []
    },
    {
      "cell_type": "code",
      "metadata": {
        "id": "id6_wcMHcfzg",
        "colab_type": "code",
        "colab": {}
      },
      "source": [
        "# 39 columns. lets see the PCA from [1..39], increasing by 3 \n",
        "for i in range(1, X_train.shape[1]+1, 3):\n",
        "  print('i =', i, ', ', round(np.sum(PCA(n_components=i).fit(X_train).explained_variance_ratio_),5)) \n",
        "  # \"Percentage of variance explained by *each* of the selected components\" \n",
        "  # Note that explained_variance_ratio_ is a list, so we sum that.\n",
        "\n",
        "# to visualize\n",
        "#https://github.com/reiinakano/scikit-plot/blob/master/examples/jupyter_notebooks/plot_pca_component_variance.ipynb"
      ],
      "execution_count": null,
      "outputs": []
    },
    {
      "cell_type": "code",
      "metadata": {
        "id": "TCv_Eo6P4m_U",
        "colab_type": "code",
        "colab": {}
      },
      "source": [
        "!pip install scikit-plot\n",
        "import scikitplot as skplt\n",
        "\n",
        "pca = PCA(random_state=1)\n",
        "_ = pca.fit(X_train)\n",
        "skplt.decomposition.plot_pca_component_variance(pca,target_explained_variance=0.975)\n",
        "plt.show()"
      ],
      "execution_count": null,
      "outputs": []
    },
    {
      "cell_type": "code",
      "metadata": {
        "id": "_6wj3yuzUMO8",
        "colab_type": "code",
        "colab": {}
      },
      "source": [
        "pca = PCA(n_components=20) # want 26ish to 28ish components, if you want 99% of variance explained\n",
        "_ = pca.fit(X_train)\n",
        "X_train = pca.transform(X_train)\n",
        "X_test = pca.transform(X_test)\n",
        "\n",
        "X_train = pd.DataFrame(X_train, index = train_categorical.index) # may or may not be needed. some recommened reseting the index  https://stackoverflow.com/a/47957914\n",
        "X_test = pd.DataFrame(X_test,  index = test_categorical.index)\n",
        "X_train.head(3)\n",
        "X_train.shape"
      ],
      "execution_count": null,
      "outputs": []
    },
    {
      "cell_type": "code",
      "metadata": {
        "id": "QasCr9WExcIt",
        "colab_type": "code",
        "colab": {}
      },
      "source": [
        "# # test_categorical.reset_index(inplace=True)\n",
        "# # train_categorical.reset_index(inplace=True)\n",
        "\n",
        "# X_train = X_train.join(train_categorical)\n",
        "# X_test = X_test.join(test_categorical)\n",
        "\n",
        "X_train = pd.concat([X_train, train_categorical], axis=1)\n",
        "X_test = pd.concat([X_test, test_categorical], axis=1)\n",
        "\n",
        "# X_train.tail(3)"
      ],
      "execution_count": null,
      "outputs": []
    },
    {
      "cell_type": "code",
      "metadata": {
        "id": "CaTq8fRf0rzz",
        "colab_type": "code",
        "colab": {}
      },
      "source": [
        "np.any(np.isnan(X_train))\n",
        "np.any(np.isnan(X_test))\n",
        "\n",
        "X_train.shape\n",
        "y_train.shape"
      ],
      "execution_count": null,
      "outputs": []
    },
    {
      "cell_type": "code",
      "metadata": {
        "id": "ZyUyDNdZUMX5",
        "colab_type": "code",
        "colab": {}
      },
      "source": [
        "DTC = DecisionTreeClassifier() \n",
        "RFC = RandomForestClassifier(n_estimators=200, random_state=42)\n",
        "ETC = ExtraTreesClassifier(n_estimators=150, criterion='gini', max_features='auto', bootstrap=False)\n",
        "\n",
        "eclf = VotingClassifier(estimators=[('lr', DTC), ('rf', RFC),('et',ETC)], voting='hard') \n",
        "for clf in [DTC, RFC,ETC, eclf]: \n",
        "    _ = clf.fit(X_train,y_train)\n",
        "    pred = clf.score(X_test,y_test)\n",
        "    print(\"Acc: %0.7f\" % (pred))\n",
        "\n",
        "    # PCA-20, 0.766 \n",
        "    # PCA-30, 0.757    \n",
        "    # PCA-36, 0.772  \n",
        "\n",
        "    # Scaler only, 0.796 (StandardScaler, not minMax)\n",
        "    # neither, 0.795"
      ],
      "execution_count": null,
      "outputs": []
    },
    {
      "cell_type": "code",
      "metadata": {
        "id": "MXrKkx55-xQ8",
        "colab_type": "code",
        "colab": {}
      },
      "source": [
        "print(\"Acc: %0.7f\" % (ETC.score(X_test,y_test)))\n",
        "print('feature_importances_: \\n', ETC.feature_importances_)\n",
        "print('predict_proba: \\n' ,ETC.predict_proba(X_test[:4]))"
      ],
      "execution_count": null,
      "outputs": []
    },
    {
      "cell_type": "code",
      "metadata": {
        "id": "gD51QRaZX0_T",
        "colab_type": "code",
        "colab": {}
      },
      "source": [
        "# recap\n",
        "def generate_data_again(X = X, y = y, test_size = 0.9):\n",
        "\n",
        "  y = combined_data['attack_cat']\n",
        "  X = combined_data.drop(['attack_cat'], axis = 1) # inplace = true, to change-in place... mutate origianl data \n",
        "  X_train, X_test, y_train, y_test = train_test_split(X, y, test_size=test_size, random_state=42) \n",
        "\n",
        "  train_categorical, test_categorical = X_train[categorical], X_test[categorical] \n",
        "  X_train, X_test = X_train.drop(categorical, axis=1), X_test.drop(categorical, axis=1)\n",
        "\n",
        "  scaler = StandardScaler()\n",
        "  X_train = scaler.fit_transform(X_train)\n",
        "  X_test = scaler.transform(X_test)\n",
        "\n",
        "  X_train, X_test = pd.DataFrame(X_train, index = train_categorical.index), pd.DataFrame(X_test, index = test_categorical.index)\n",
        "  X_train, X_test = pd.concat([X_train, train_categorical], axis=1), pd.concat([X_test, test_categorical], axis=1)\n",
        "  return X_train, X_test, y_train, y_test\n",
        "\n",
        "X_train, X_test, y_train, y_test = generate_data_again() "
      ],
      "execution_count": null,
      "outputs": []
    },
    {
      "cell_type": "code",
      "metadata": {
        "id": "e7VIh6fC-sTh",
        "colab_type": "code",
        "colab": {}
      },
      "source": [
        "# X_train.head(2)\n",
        "# X_train[[1,2, 40]]\n",
        "# X_train.iloc[:, [1,2,40]] # surprisingly this can take a list,"
      ],
      "execution_count": null,
      "outputs": []
    },
    {
      "cell_type": "code",
      "metadata": {
        "id": "ZALnpYJnX09U",
        "colab_type": "code",
        "colab": {}
      },
      "source": [
        "importances = ETC.feature_importances_\n",
        "print(importances)\n",
        "\n",
        "importances = np.argsort(importances, axis = 0)\n",
        "# importances = importances[::-1] # reverse \n",
        "# num_list[-10:] # a negative index will count from the end of the list, so:\n",
        "\n",
        "N = 10 # 42 -> 10 \n",
        "whitelist = importances[-N:]\n",
        "print(whitelist)\n",
        "\n",
        "X_train = pd.DataFrame(X_train)\n",
        "X_train = X_train.iloc[:, whitelist] # https://pandas.pydata.org/pandas-docs/stable/reference/api/pandas.DataFrame.iloc.html\n",
        "\n",
        "X_test = pd.DataFrame(X_test)\n",
        "X_test = X_test.iloc[:, whitelist]\n",
        "\n",
        "X_train.head()\n",
        "\n",
        "# if we wanted to, we could take the other features, and put them in PCA, to have 40 -> 10 + 10 features "
      ],
      "execution_count": null,
      "outputs": []
    },
    {
      "cell_type": "code",
      "metadata": {
        "id": "zVH2bDEDX05q",
        "colab_type": "code",
        "colab": {}
      },
      "source": [
        "DTC = DecisionTreeClassifier() \n",
        "RFC = RandomForestClassifier(n_estimators=250, random_state=1)\n",
        "ETC = ExtraTreesClassifier(n_estimators=100, criterion='gini', max_features=X_test.shape[1], bootstrap=False)\n",
        "\n",
        "eclf = VotingClassifier(estimators=[('lr', DTC), ('rf', RFC),('et', ETC)], voting='hard') \n",
        "for clf in [DTC, RFC,ETC, eclf]: \n",
        "    _ = clf.fit(X_train,y_train)\n",
        "    pred = clf.score(X_test, y_test)\n",
        "    print(\"Acc: %0.7f\" % (pred))\n",
        "    # worse 10: 0.65%\n",
        "    # best  10: 0.7979%\n",
        "\n",
        "X_train.shape"
      ],
      "execution_count": null,
      "outputs": []
    },
    {
      "cell_type": "markdown",
      "metadata": {
        "id": "kjS9sta7B3Tg",
        "colab_type": "text"
      },
      "source": [
        "This is still technically 80% accuracy, however, we needed only 10 dimensions (features) "
      ]
    },
    {
      "cell_type": "code",
      "metadata": {
        "id": "FliUUN3tXr7X",
        "colab_type": "code",
        "colab": {}
      },
      "source": [
        "X_train, X_test, y_train, y_test = generate_data_again() # commment this out if you want to keep using 10 dim"
      ],
      "execution_count": null,
      "outputs": []
    },
    {
      "cell_type": "code",
      "metadata": {
        "id": "STVhQUtVX02Q",
        "colab_type": "code",
        "colab": {}
      },
      "source": [
        "from sklearn.svm import *\n",
        "from sklearn.kernel_approximation import Nystroem\n",
        "from sklearn.naive_bayes import GaussianNB\n",
        "from sklearn.neighbors import KNeighborsClassifier\n",
        "\n",
        "# clf = SVC(kernel = 'rbf') # 0.753, takes long\n",
        "# _ = clf.fit(X_train, y_train)\n",
        "# print(clf.score(X_test, y_test))\n",
        "\n",
        "# clf = LinearSVC() # 0.66\n",
        "# _ = clf.fit(X_train, y_train)\n",
        "# print(clf.score(X_test, y_test))\n",
        "\n",
        "clf = LinearSVC() # 0.77\n",
        "feature_map = Nystroem(n_components = 200) \n",
        "_ = clf.fit(feature_map.fit_transform(X_train), y_train)\n",
        "print(clf.score(feature_map.transform(X_test), y_test))\n",
        "\n",
        "# this tell us to use LinearSVC after a Nystroem transformer  https://scikit-learn.org/stable/modules/generated/sklearn.svm.SVC.html#sklearn.svm.SVC\n",
        "# https://scikit-learn.org/stable/modules/generated/sklearn.kernel_approximation.Nystroem.html"
      ],
      "execution_count": null,
      "outputs": []
    },
    {
      "cell_type": "code",
      "metadata": {
        "id": "RngE39mwCel0",
        "colab_type": "code",
        "colab": {}
      },
      "source": [
        "# clf = LinearSVC() # 0.76\n",
        "# feature_map = Nystroem(n_components = 100) \n",
        "\n",
        "# clf = LinearSVC() # 0.77\n",
        "# feature_map = Nystroem(n_components = 600) \n",
        "\n",
        "# clf = LinearSVC() # 0.770\n",
        "# feature_map = Nystroem(n_components = 400, gamma= 0.1) \n",
        "\n",
        "# clf = LinearSVC() # 0.769\n",
        "# feature_map = Nystroem(n_components = 400, gamma= 0.5) \n",
        "\n",
        "# clf = LinearSVC() # 0.7756\n",
        "# feature_map = Nystroem(n_components = 400, gamma= 0.99) "
      ],
      "execution_count": null,
      "outputs": []
    },
    {
      "cell_type": "code",
      "metadata": {
        "id": "h-BlEeUdX0zg",
        "colab_type": "code",
        "colab": {}
      },
      "source": [
        "# clf = xgboost.XGBRFClassifier() # 0.765\n",
        "# _ = clf.fit(X_train, y_train)\n",
        "# print(clf.score(X_test, y_test))\n",
        "\n",
        "# clf = xgboost.XGBClassifier(n_estimators  = 100, n_jobs = -1) # 0.806\n",
        "# _ = clf.fit(X_train, y_train)\n",
        "# print(clf.score(X_test, y_test))\n",
        "\n",
        "# '''\n",
        "# With top 10 features\n",
        "# 0.7515803817063811\n",
        "# 0.7904754512604245\n",
        "\n",
        "# With top 42 features\n",
        "# 0.765262649521789\n",
        "# 0.8064819366467448\n",
        "# '''"
      ],
      "execution_count": null,
      "outputs": []
    },
    {
      "cell_type": "code",
      "metadata": {
        "id": "Trk616Gl538s",
        "colab_type": "code",
        "colab": {}
      },
      "source": [
        "X_train.shape\n",
        "xgboost.plot_importance(clf)\n",
        "XGBClassifier_top_10 = np.argsort(clf.feature_importances_)[-10:]\n",
        "print('\\nTop 10: \\t\\t', np.sort(XGBClassifier_top_10))\n",
        "print('Top 10 - extra Trees: ', np.sort(whitelist))\n",
        "both = np.concatenate([whitelist,XGBClassifier_top_10])\n",
        "print(set(both))\n",
        "print(len(set(both)), \"So these two algos cared about different features. you can do stuff like this want several algos, write some code to 'vote' and select some ideal features\")\n",
        "\n"
      ],
      "execution_count": null,
      "outputs": []
    },
    {
      "cell_type": "markdown",
      "metadata": {
        "id": "y4ApI5Gv3j4N",
        "colab_type": "text"
      },
      "source": [
        "So these two algos cared about different features. you can do stuff like this want several algos, write some code to 'vote' and select some ideal features\n",
        "\n",
        "these \"ideal features\" can either go to the final model (or to PCA, is not already), this is feature selection with ML."
      ]
    },
    {
      "cell_type": "code",
      "metadata": {
        "id": "3hzXWkrK6JnJ",
        "colab_type": "code",
        "colab": {}
      },
      "source": [
        ""
      ],
      "execution_count": null,
      "outputs": []
    },
    {
      "cell_type": "code",
      "metadata": {
        "id": "tcQhnhlIX0wn",
        "colab_type": "code",
        "colab": {}
      },
      "source": [
        "# for i in range(2,50,3): # from 2 to 50, increasing by 3\n",
        "clf = KNeighborsClassifier(n_neighbors=20, n_jobs = -1) # 0.76\n",
        "_ = clf.fit(X_train, y_train)\n",
        "print(i, ':', clf.score(X_test, y_test))"
      ],
      "execution_count": null,
      "outputs": []
    },
    {
      "cell_type": "code",
      "metadata": {
        "id": "FbKIksZDX0s_",
        "colab_type": "code",
        "colab": {
          "base_uri": "https://localhost:8080/",
          "height": 35
        },
        "outputId": "a5db5b22-10c0-4aae-9949-726f2d055a71"
      },
      "source": [
        "# github.com/microsoft/LightGBM\n",
        "# lightgbm.readthedocs.io/en/latest/pythonapi/lightgbm.LGBMClassifier.html\n",
        "from lightgbm import LGBMClassifier\n",
        "\n",
        "model = LGBMClassifier(objective='multiclass', n_estimators= 500)\n",
        "_ = model.fit(X_train, y_train.values)\n",
        "print(model.score(X_test,y_test.values)) # 0.80\n",
        "y_hat = model.predict(X_test)\n",
        "\n",
        "print(model.feature_importances_)"
      ],
      "execution_count": null,
      "outputs": [
        {
          "output_type": "stream",
          "text": [
            "0.8085733012513691\n"
          ],
          "name": "stdout"
        }
      ]
    },
    {
      "cell_type": "code",
      "metadata": {
        "id": "nqVMo6fNUMbx",
        "colab_type": "code",
        "colab": {}
      },
      "source": [
        "# struct = pd.Series(model.feature_importances_, index=X_test.columns).nlargest(len(X_test.columns))\n",
        "struct = pd.Series(model.feature_importances_).nlargest(10)\n",
        "struct.plot(kind='barh', figsize=(18, 6))"
      ],
      "execution_count": null,
      "outputs": []
    },
    {
      "cell_type": "code",
      "metadata": {
        "id": "AOpSeZvmUMS5",
        "colab_type": "code",
        "colab": {}
      },
      "source": [
        "# %%capture \n",
        "# # !sudo apt-get install build-essential swig\n",
        "# !curl https://raw.githubusercontent.com/automl/auto-sklearn/master/requirements.txt | xargs -n 1 -L 1 pip install\n",
        "# !pip install auto-sklearn"
      ],
      "execution_count": null,
      "outputs": []
    },
    {
      "cell_type": "code",
      "metadata": {
        "id": "vMsHcymBxVTa",
        "colab_type": "code",
        "colab": {}
      },
      "source": [
        "# import autosklearn.classification\n",
        "# from  sklearn.datasets import load_digits\n",
        "# X, y = load_digits(return_X_y=True)\n",
        "# X_train, X_test, y_train, y_test = sklearn.model_selection.train_test_split(X, y, random_state=1)\n",
        "# automl = autosklearn.classification.AutoSklearnClassifier()\n"
      ],
      "execution_count": null,
      "outputs": []
    },
    {
      "cell_type": "code",
      "metadata": {
        "id": "lkDoiTh9xwo6",
        "colab_type": "code",
        "colab": {}
      },
      "source": [
        "# automl.fit(X_train, y_train)\n",
        "# y_hat = automl.predict(X_test)\n",
        "# print(\"Accuracy score\", sklearn.metrics.accuracy_score(y_test, y_hat))"
      ],
      "execution_count": null,
      "outputs": []
    },
    {
      "cell_type": "markdown",
      "metadata": {
        "id": "7WGklaIs8QmG",
        "colab_type": "text"
      },
      "source": [
        "## Neural Networks\n",
        "\n",
        "### Used to model complex patterns in datasets using multiple hidden layers and non-linear activation functions.\n",
        "\n",
        "Neural networks are trained iteratively using optimization techniques like gradient descent. After each cycle of training, an error metric is calculated based on the difference between prediction and target. The derivatives of this error metric are calculated and propagated back through the network using a technique called backpropagation. Each neuron’s coefficients (weights) are then adjusted relative to how much they contributed to the total error. This process is repeated till we get tried of waiting, or the \"loss function plateaus\" \n",
        "\n",
        "\n",
        "Notes: W might be called the `kernal` in the TF docs\n",
        "\n",
        "<img src=\"https://ml-cheatsheet.readthedocs.io/en/latest/_images/neuron.png\" alt=\"drawing\" width=\"900\"/>\n",
        "\n",
        "\n",
        "### Layers \n",
        "[Docs](https://www.tensorflow.org/api_docs/python/tf/keras/layers/)\n",
        "\n",
        "#### What is Dense\n",
        "\n",
        "<img src=\"https://www.researchgate.net/profile/Mark_Sandler2/publication/319700841/figure/fig3/AS:538663165857797@1505438714241/An-illustration-of-a-dense-layer-that-has-a-4D-input-and-3D-output.png\" alt=\"drawing\" width=\"400\" height = '300'/>\n",
        "\n",
        "#### What is Dropout\n",
        "\n",
        "> The Dropout layer randomly sets input units to 0 with a frequency of rate at each step during training time, which helps prevent overfitting. Inputs not set to 0 are scaled up by 1/(1 - rate) such that the sum over all inputs is unchanged.\n",
        "\n",
        "\n",
        "\n",
        "### Activation Functions\n",
        "\n",
        "modify the data they receive before passing it to the next layer. Activation functions give neural networks their power — allowing them to model complex non-linear relationships. [ cheat sheet](https://ml-cheatsheet.readthedocs.io/en/latest/activation_functions.html) \n",
        "\n",
        "<img src=\"https://ml-cheatsheet.readthedocs.io/en/latest/_images/sigmoid.png\" alt=\"drawing\" width=\"200\"/>\n",
        "<img src=\"https://ml-cheatsheet.readthedocs.io/en/latest/_images/relu.png\" alt=\"drawing\" width=\"185\"/>\n",
        "\n",
        "(Above) Activation Functions: Sigmoid & Relu \n",
        "\n",
        "If X_1 is 100,000 and the corresponding weight, bounded between [0,1], is 0.01, the input to the Sigmoid is 10,000. The output is 1....  you get the same output for all large values of X_i, with  non \"tiny\" weigth. \n",
        "\n",
        "> recall that the sigmoid(100,000) = sigmoid(100) = 1.00; sigmoid([5..maxInt) >= 0.9933\n",
        "\n",
        "`5/100,000 = 0.00005. To weight-down a large number, we need a VERY small weight`\n",
        "\n",
        "> This is why we normalize data, among other reasons \n",
        "\n",
        "\n",
        "## Optimization\n",
        "\n",
        "Minimize Loss Function with a Optimizer, which takes `Learning Rate (LR)` as a parameter\n",
        "\n",
        "* [This is a quick reference](https://ml-cheatsheet.readthedocs.io/en/latest/optimizers.html). \n",
        "\n",
        "### I recommend using `Adam` for all cases.  \n",
        "\n",
        "> \"magically minimize the loss function\"\n",
        "\n",
        "\n",
        "\n",
        "\n",
        "### Loss function\n",
        "Chosen to be convex functions, which means it \"has no more than one minimum\". \n",
        "> @ Minimun point, you see only: UPs and FLATs, never a DOWN \n",
        "\n",
        "<img src=\"https://miro.medium.com/max/3096/1*6EIZU5RiHx_Um_p-Zuh4Sw.png\" alt=\"drawing\" width=\"500\" height = '400'/>\n",
        "\n",
        "<img src=\"https://upload.wikimedia.org/wikipedia/commons/6/6e/Grafico_3d_x2%2Bxy%2By2.png\" alt=\"drawing\" width=\"500\" height = '400'/>\n",
        "\n",
        "* \"Cross Entropy Loss\"/\"Negative Log Likelihood\" for Classification: `−(ylog(p)+(1−y)log(1−p)` (we minimize this) \n",
        "* \"Mean Squared Error\" for Regression `1/N * SUM[ ( X_i - Mean)^2 ]`\n",
        "\n",
        "\n",
        "* BinaryCrossentropy\n",
        "  + `2 classes` Categorization\n",
        "* CategoricalCrossentropy\n",
        "  + `> 2 classes` Categorization\n",
        "* MSE\n",
        "  + Regression \n",
        "\n",
        "\n",
        "#### Sparse vs OneHot \n",
        "* SparseCategoricalCrossentropy\n",
        "* SparseBinaryCrossentropy\n",
        "\n",
        "Sparse\n",
        "##### list = [1, 4, 4, 6, 1, 4, 6]\n",
        "##### OneHot\n",
        "<img src=\"https://miro.medium.com/max/674/1*YEJf9BQQh0ma1ECs6x_7yQ.png\" alt=\"drawing\" width=\"800\" height = '400'/>\n",
        "\n",
        "\n",
        "### Learning rate\n",
        "\n",
        "<img src=\"https://i.imgur.com/3zNiEcw.pnghttps://upload.wikimedia.org/wikipedia/commons/6/6e/Grafico_3d_x2%2Bxy%2By2.png\" alt=\"drawing\" width=\"500\" height = '400'/>\n",
        "<img src=\"https://miro.medium.com/max/918/0*uIa_Dz3czXO5iWyI.\" alt=\"drawing\" width=\"500\" height = '400'/>\n",
        "\n",
        "* Leave it at default\n",
        "* Use [ReduceLROnPlateau](https://www.tensorflow.org/api_docs/python/tf/keras/callbacks/ReduceLROnPlateau) to Reduce learning rate when a metric has stopped improving. \n",
        "\n",
        "Docs have a code-example. import like this `from tensorflow.keras.callbacks import ReduceLROnPlateau` "
      ]
    },
    {
      "cell_type": "code",
      "metadata": {
        "id": "tt1N4AvZ8QVS",
        "colab_type": "code",
        "colab": {}
      },
      "source": [
        "from tensorflow.keras.layers import Dense, Dropout, BatchNormalization\n",
        "from tensorflow.keras.models import Sequential\n",
        "from tensorflow.keras.callbacks import ReduceLROnPlateau, EarlyStopping, ModelCheckpoint\n",
        "from tensorflow.keras.optimizers import Adam\n",
        "\n",
        "from sklearn.preprocessing import OneHotEncoder"
      ],
      "execution_count": null,
      "outputs": []
    },
    {
      "cell_type": "code",
      "metadata": {
        "colab_type": "code",
        "id": "2Grg3zG839iV",
        "colab": {}
      },
      "source": [
        "X_train, X_test, y_train, y_test = generate_data_again(test_size=0.2) \n",
        "\n",
        "X_train.head(3)\n",
        "\n",
        "# ETC = ExtraTreesClassifier(n_estimators=100, criterion='gini', max_features='auto', bootstrap=False)\n",
        "# _ = ETC.fit(X_train,y_train)\n",
        "# pred = ETC.score(X_test,y_test)\n",
        "# print(\"Acc: %0.7f\" % (pred))"
      ],
      "execution_count": null,
      "outputs": []
    },
    {
      "cell_type": "code",
      "metadata": {
        "id": "cTRtwIZxZqKM",
        "colab_type": "code",
        "colab": {}
      },
      "source": [
        "# encoder = OneHotEncoder()\n",
        "# y_train = encoder.fit_transform(y_train.values.reshape(-1, 1))\n",
        "# y_test = encoder.transform(y_test.values.reshape(-1, 1))\n",
        "\n",
        "input_shape  = X_train.shape[1]\n",
        "output_shape = 1 "
      ],
      "execution_count": null,
      "outputs": []
    },
    {
      "cell_type": "code",
      "metadata": {
        "id": "ztJRYHSW35Wa",
        "colab_type": "code",
        "colab": {}
      },
      "source": [
        "classifier = Sequential()\n",
        "#First Hidden Layer\n",
        "classifier.add(Dense(input_shape*3, activation='relu', input_dim = input_shape)) # 129 nodes \n",
        "classifier.add(BatchNormalization())\n",
        "# classifier.add(Dropout(0.1))\n",
        "\n",
        "classifier.add(Dense(input_shape*3, activation='relu'))\n",
        "classifier.add(BatchNormalization())\n",
        "# classifier.add(Dropout(0.1))\n",
        "\n",
        "classifier.add(Dense(input_shape*2, activation='relu'))\n",
        "\n",
        "classifier.add(Dense(input_shape, activation='relu'))\n",
        "classifier.add(Dense(10, activation='softmax'))# softmax\n",
        "\n",
        "classifier.compile(optimizer ='adam',loss='SparseCategoricalCrossentropy', metrics =['accuracy'])"
      ],
      "execution_count": null,
      "outputs": []
    },
    {
      "cell_type": "code",
      "metadata": {
        "id": "sP7lFn4-35Sd",
        "colab_type": "code",
        "colab": {}
      },
      "source": [
        "classifier.fit(X_train.values, y_train, batch_size=8, epochs=40, validation_data=(X_test, y_test)) # validation_split= 0.2\n",
        "\n",
        "#78%"
      ],
      "execution_count": null,
      "outputs": []
    },
    {
      "cell_type": "code",
      "metadata": {
        "id": "gD88QTjZaiZj",
        "colab_type": "code",
        "colab": {}
      },
      "source": [
        "classifier = Sequential()\n",
        "\n",
        "classifier.add(Dense(input_shape, activation='relu', input_dim = input_shape)) # 129 nodes \n",
        "classifier.add(Dense(input_shape*2, activation='relu')) \n",
        "# classifier.add(BatchNormalization())\n",
        "\n",
        "classifier.add(Dense(input_shape*3, activation='relu')) \n",
        "classifier.add(Dense(input_shape*2, activation='relu'))\n",
        "# classifier.add(BatchNormalization())\n",
        "\n",
        "classifier.add(Dense(input_shape, activation='relu'))\n",
        "classifier.add(Dense(10, activation='softmax'))# softmax\n",
        "\n",
        "classifier.compile(optimizer = Adam(0.002),loss='SparseCategoricalCrossentropy', metrics =['accuracy'])\n",
        "reduce_LR = ReduceLROnPlateau(monitor='val_loss', factor=0.5, patience=5)\n",
        "\n",
        "history = classifier.fit(X_train.values, y_train, batch_size=16, epochs=100, validation_data=(X_test, y_test), callbacks=[reduce_LR]).history"
      ],
      "execution_count": null,
      "outputs": []
    },
    {
      "cell_type": "markdown",
      "metadata": {
        "id": "rr5nDCSshEz9",
        "colab_type": "text"
      },
      "source": [
        "I didn't overfit\n",
        "```\n",
        "Epoch 100/100\n",
        "12884/12884 [==============================] - 49s 4ms/step - loss: 0.4400 - accuracy: 0.8197 - val_loss: 0.4777 - val_accuracy: 0.8155 - lr: 1.2207e-07\n",
        "```\n",
        "\n"
      ]
    },
    {
      "cell_type": "code",
      "metadata": {
        "id": "EeHnsatJj8uO",
        "colab_type": "code",
        "colab": {}
      },
      "source": [
        "classifier = Sequential()\n",
        "\n",
        "classifier.add(Dense(input_shape, activation='relu', input_dim = input_shape)) # 129 nodes \n",
        "classifier.add(Dense(input_shape*2, activation='relu')) \n",
        "# classifier.add(BatchNormalization())\n",
        "\n",
        "classifier.add(Dense(input_shape*3, activation='relu')) \n",
        "classifier.add(Dense(input_shape*3, activation='relu')) \n",
        "classifier.add(Dense(input_shape*3, activation='relu')) \n",
        "\n",
        "# classifier.add(BatchNormalization())\n",
        "classifier.add(Dense(input_shape*2, activation='relu'))\n",
        "classifier.add(Dense(input_shape, activation='relu'))\n",
        "classifier.add(Dense(10, activation='softmax'))# softmax\n",
        "\n",
        "classifier.compile(optimizer = Adam(0.002),loss='SparseCategoricalCrossentropy', metrics =['accuracy'])\n",
        "reduce_LR = ReduceLROnPlateau(monitor='val_loss', factor=0.5, patience=5)\n",
        "\n",
        "history = classifier.fit(X_train.values, y_train, batch_size=16, epochs=100, validation_data=(X_test, y_test), callbacks=[reduce_LR]).history"
      ],
      "execution_count": null,
      "outputs": []
    },
    {
      "cell_type": "code",
      "metadata": {
        "id": "nnIopPrrkEu6",
        "colab_type": "code",
        "colab": {}
      },
      "source": [
        "classifier = Sequential()\n",
        "\n",
        "classifier.add(Dense(input_shape, activation='relu', input_dim = input_shape)) # 129 nodes \n",
        "classifier.add(Dense(input_shape*2, activation='relu')) \n",
        "classifier.add(BatchNormalization())\n",
        "\n",
        "classifier.add(Dense(input_shape*3, activation='relu')) \n",
        "classifier.add(Dense(input_shape*3, activation='relu')) \n",
        "classifier.add(Dense(input_shape*3, activation='relu')) \n",
        "\n",
        "classifier.add(BatchNormalization())\n",
        "classifier.add(Dense(input_shape*2, activation='relu'))\n",
        "classifier.add(Dense(input_shape, activation='relu'))\n",
        "classifier.add(Dense(10, activation='softmax'))# softmax\n",
        "\n",
        "classifier.compile(optimizer = Adam(0.002),loss='SparseCategoricalCrossentropy', metrics =['accuracy'])\n",
        "reduce_LR = ReduceLROnPlateau(monitor='val_loss', factor=0.5, patience=5)\n",
        "\n",
        "history = classifier.fit(X_train.values, y_train, batch_size=16, epochs=100, validation_data=(X_test, y_test), callbacks=[reduce_LR]).history"
      ],
      "execution_count": null,
      "outputs": []
    },
    {
      "cell_type": "code",
      "metadata": {
        "id": "Yq26Q83OlgZy",
        "colab_type": "code",
        "colab": {}
      },
      "source": [
        "classifier = Sequential()\n",
        "\n",
        "classifier.add(Dense(input_shape*3, activation='relu', input_dim = input_shape)) # 129 nodes \n",
        "classifier.add(Dense(input_shape*3, activation='relu')) \n",
        "\n",
        "\n",
        "classifier.add(Dense(input_shape*3, activation='relu')) \n",
        "classifier.add(Dense(input_shape*3, activation='relu')) \n",
        "classifier.add(Dense(input_shape*2, activation='relu')) \n",
        "\n",
        "\n",
        "classifier.add(Dense(input_shape*2, activation='relu'))\n",
        "classifier.add(Dense(input_shape, activation='relu'))\n",
        "classifier.add(Dense(10, activation='softmax'))# softmax\n",
        "\n",
        "classifier.compile(optimizer = Adam(0.002),loss='SparseCategoricalCrossentropy', metrics =['accuracy'])\n",
        "reduce_LR = ReduceLROnPlateau(monitor='val_loss', factor=0.5, patience=5)\n",
        "\n",
        "history = classifier.fit(X_train.values, y_train, batch_size=16, epochs=100, validation_data=(X_test, y_test), callbacks=[reduce_LR]).history"
      ],
      "execution_count": null,
      "outputs": []
    },
    {
      "cell_type": "markdown",
      "metadata": {
        "id": "eDaVLJgx35OC",
        "colab_type": "text"
      },
      "source": [
        "```\n",
        "classifier = Sequential()\n",
        "#First Hidden Layer\n",
        "classifier.add(Dense(input_shape*3, activation='relu', input_dim = input_shape)) # 129 nodes \n",
        "classifier.add(BatchNormalization())\n",
        "classifier.add(Dropout(0.3))\n",
        "\n",
        "classifier.add(Dense(input_shape*3, activation='relu'))\n",
        "\n",
        "classifier.add(Dense(input_shape*3, activation='relu'))\n",
        "classifier.add(BatchNormalization())\n",
        "classifier.add(Dropout(0.3))\n",
        "\n",
        "classifier.add(Dense(input_shape*2, activation='relu'))\n",
        "\n",
        "classifier.add(Dense(input_shape*2, activation='relu'))\n",
        "classifier.add(BatchNormalization())\n",
        "\n",
        "classifier.add(Dense(input_shape*2, activation='relu'))\n",
        "\n",
        "classifier.add(Dense(input_shape, activation='relu'))\n",
        "classifier.add(BatchNormalization())\n",
        "\n",
        "classifier.add(Dense(10, activation='softmax'))# softmax\n",
        "\n",
        "\n",
        "classifier.compile(optimizer = Adam(0.001),loss='SparseCategoricalCrossentropy', metrics =['accuracy'])\n",
        "\n",
        "reduce_LR = ReduceLROnPlateau(monitor='val_loss', factor=0.5, patience=10)\n",
        "\n",
        "history = classifier.fit(X_train.values, y_train, batch_size=16, epochs=100, validation_split=0.2, callbacks=[reduce_LR]).history\n",
        "```\n",
        "\n",
        "Epoch 100/100\n",
        "1289/1289 [==============================] - 6s 5ms/step - loss: 0.5719 - accuracy: 0.7716 - val_loss: 0.5407 - val_accuracy: 0.7852 - lr: 5.0000e-05"
      ]
    },
    {
      "cell_type": "code",
      "metadata": {
        "id": "qss5Ridq35IK",
        "colab_type": "code",
        "colab": {}
      },
      "source": [
        ""
      ],
      "execution_count": null,
      "outputs": []
    },
    {
      "cell_type": "code",
      "metadata": {
        "id": "CVKgGG7f35Go",
        "colab_type": "code",
        "colab": {}
      },
      "source": [
        ""
      ],
      "execution_count": null,
      "outputs": []
    },
    {
      "cell_type": "code",
      "metadata": {
        "id": "I37kWFoa35D3",
        "colab_type": "code",
        "colab": {}
      },
      "source": [
        ""
      ],
      "execution_count": null,
      "outputs": []
    },
    {
      "cell_type": "code",
      "metadata": {
        "id": "dzOigzEw34_C",
        "colab_type": "code",
        "colab": {}
      },
      "source": [
        ""
      ],
      "execution_count": null,
      "outputs": []
    },
    {
      "cell_type": "code",
      "metadata": {
        "id": "Qoe3CY5s346H",
        "colab_type": "code",
        "colab": {}
      },
      "source": [
        "# def benchmark(pred, y_test = y_test):\n",
        "#   print( \"hamming_loss: \\t\\t\"    ,round(hamming_loss(y_test,pred),3))\n",
        "#   print( \"precision_score: \\t\"   ,round(precision_score(y_test,pred,average='micro'),3))\n",
        "#   print( \"recall_score: \\t\\t\"    ,round(recall_score(y_test,pred ,average='micro'),3))\n",
        "#   print(\"------------------------------\")\n",
        "#   print( \"accuracy_score: \\t\"    ,round(accuracy_score(y_test,pred),3))\n",
        "\n",
        "# benchmark(pred)"
      ],
      "execution_count": null,
      "outputs": []
    },
    {
      "cell_type": "code",
      "metadata": {
        "id": "L2Y2rb0n342Y",
        "colab_type": "code",
        "colab": {}
      },
      "source": [
        ""
      ],
      "execution_count": null,
      "outputs": []
    },
    {
      "cell_type": "code",
      "metadata": {
        "id": "5Cxya7UC340e",
        "colab_type": "code",
        "colab": {}
      },
      "source": [
        "# lastly, we can be very weird:  600 -> 2 -> 600 -> 2 -> 600 -> 10 \n",
        "# ANNs are good a dealing with useless vectors (a vector of the number of tweets that day from Trump)\n",
        "# ANNs can do dimensionality reduction\n",
        "# This example might be broken. if you have 10 choices, even chance, and ANN predicting 0, its 10% acc. this ACC might* only get the two most common attacks.... Im not sure \n",
        "\n",
        "classifier = Sequential()\n",
        "\n",
        "classifier.add(Dense(600, activation='relu', input_dim = input_shape)) \n",
        "# classifier.add(Dense(600, activation='relu')) # if these two are active, if 2, we get 0.36 acc. if 600, we are fine \n",
        "# classifier.add(Dense(600, activation='relu')) \n",
        "classifier.add(Dense(2, activation='relu')) \n",
        "classifier.add(Dense(600, activation='relu')) \n",
        "\n",
        "classifier.add(BatchNormalization())\n",
        "\n",
        "classifier.add(Dense(2, activation='relu'))\n",
        "classifier.add(Dense(600, activation='relu'))\n",
        "classifier.add(Dense(10, activation='softmax'))# softmax\n",
        "\n",
        "classifier.compile(optimizer = Adam(0.002),loss='SparseCategoricalCrossentropy', metrics =['accuracy'])\n",
        "reduce_LR = ReduceLROnPlateau(monitor='val_loss', factor=0.5, patience=5)\n",
        "\n",
        "history = classifier.fit(X_train.values, y_train, batch_size=16, epochs=20, validation_data=(X_test.values, y_test), callbacks=[reduce_LR]).history # 0.62; 600 -> 2 -> 600 -> 2 -> 600 -> 10 "
      ],
      "execution_count": null,
      "outputs": []
    },
    {
      "cell_type": "code",
      "metadata": {
        "id": "sNTxLiKK34ve",
        "colab_type": "code",
        "colab": {}
      },
      "source": [
        ""
      ],
      "execution_count": null,
      "outputs": []
    },
    {
      "cell_type": "markdown",
      "metadata": {
        "id": "3aVt3Nw58QSC",
        "colab_type": "text"
      },
      "source": [
        "# Closing remarks\n",
        "\n",
        "0. [ML cheat sheet (site)](https://ml-cheatsheet.readthedocs.io/en/latest/nn_concepts.html)\n",
        "   * Concise and to the point, but project was dropped\n",
        "1. [ (Very) Approachable ML book](http://themlbook.com/wiki/doku.php) \n",
        "   * Any Software Engineer can pick this book up\n",
        "\n",
        "   * [Best ANN/MLP resource](https://www.dropbox.com/s/ouj8ddydc77tewo/ExtendedChapter6.pdf#page=7)\n",
        "\n",
        "2. [Best Machine Learning book](http://users.isr.ist.utl.pt/~wurmd/Livros/school/Bishop%20-%20Pattern%20Recognition%20And%20Machine%20Learning%20-%20Springer%20%202006.pdf)\n",
        "    * The book from my 4th/1st_grad_year ML course.\n",
        "    * I do not recommend unless you  are very comfortable with mathematical notation (equvilent to a math or stats degree) \n",
        "3. [Best Deep learning Book](http://faculty.neu.edu.cn/yury/AAI/Textbook/DeepLearningBook.pdf) \n",
        "\n",
        "\n",
        "[Best videos](https://www.youtube.com/playlist?list=PLZHQObOWTQDNU6R1_67000Dx_ZCJB-3pi), covers math to \"magically minimize the loss function\""
      ]
    },
    {
      "cell_type": "code",
      "metadata": {
        "id": "tlo7U7NABRJh",
        "colab_type": "code",
        "colab": {}
      },
      "source": [
        ""
      ],
      "execution_count": null,
      "outputs": []
    }
  ]
}