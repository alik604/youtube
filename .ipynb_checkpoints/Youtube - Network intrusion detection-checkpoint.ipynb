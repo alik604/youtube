{
 "cells": [
  {
   "cell_type": "markdown",
   "metadata": {
    "colab_type": "text",
    "id": "PKMDZ61LRfY4"
   },
   "source": [
    "# Network Intrusion Detection\n",
    "> [github.com/alik604](github.com/alik604)\n",
    "\n",
    "[Data Set Information:](https://archive.ics.uci.edu/ml/datasets/Arrhythmia)\n",
    "\n",
    "This database contains 279 attributes, 206 of which are linear valued and the rest are nominal.\n",
    "\n",
    "Concerning the study of H. Altay Guvenir: \"The aim is to distinguish between the presence and absence of cardiac arrhythmia and to classify it in one of the 16 groups. Class 01 refers to 'normal' ECG classes 02 to 15 refers to different classes of arrhythmia and class 16 refers to the rest of unclassified ones. For the time being, there exists a computer program that makes such a classification. However there are differences between the cardiolog's and the programs classification. Taking the cardiolog's as a gold standard we aim to minimise this difference by means of machine learning tools.\"\n",
    "\n",
    "Note: some data is sequential, i'm interested in relative performance of unsupervised AD compared to supervised AD, rather than in geting a high accuracy"
   ]
  },
  {
   "cell_type": "code",
   "execution_count": 1,
   "metadata": {},
   "outputs": [
    {
     "name": "stdout",
     "output_type": "stream",
     "text": [
      "Requirement already satisfied: mlxtend in c:\\users\\kali\\anaconda3\\lib\\site-packages (0.17.3)\n",
      "Requirement already satisfied: scikit-learn>=0.20.3 in c:\\users\\kali\\anaconda3\\lib\\site-packages (from mlxtend) (0.22.1)\n",
      "Requirement already satisfied: matplotlib>=3.0.0 in c:\\users\\kali\\appdata\\roaming\\python\\python37\\site-packages (from mlxtend) (3.0.2)\n",
      "Requirement already satisfied: joblib>=0.13.2 in c:\\users\\kali\\anaconda3\\lib\\site-packages (from mlxtend) (0.14.1)\n",
      "Requirement already satisfied: setuptools in c:\\users\\kali\\anaconda3\\lib\\site-packages (from mlxtend) (45.2.0.post20200210)\n",
      "Requirement already satisfied: pandas>=0.24.2 in c:\\users\\kali\\anaconda3\\lib\\site-packages (from mlxtend) (1.0.1)\n",
      "Requirement already satisfied: scipy>=1.2.1 in c:\\users\\kali\\anaconda3\\lib\\site-packages (from mlxtend) (1.4.1)\n",
      "Requirement already satisfied: numpy>=1.16.2 in c:\\users\\kali\\anaconda3\\lib\\site-packages (from mlxtend) (1.18.1)\n",
      "Requirement already satisfied: kiwisolver>=1.0.1 in c:\\users\\kali\\appdata\\roaming\\python\\python37\\site-packages (from matplotlib>=3.0.0->mlxtend) (1.0.1)\n",
      "Requirement already satisfied: cycler>=0.10 in c:\\users\\kali\\appdata\\roaming\\python\\python37\\site-packages (from matplotlib>=3.0.0->mlxtend) (0.10.0)\n",
      "Requirement already satisfied: pyparsing!=2.0.4,!=2.1.2,!=2.1.6,>=2.0.1 in c:\\users\\kali\\appdata\\roaming\\python\\python37\\site-packages (from matplotlib>=3.0.0->mlxtend) (2.3.0)\n",
      "Requirement already satisfied: python-dateutil>=2.1 in c:\\users\\kali\\appdata\\roaming\\python\\python37\\site-packages (from matplotlib>=3.0.0->mlxtend) (2.7.5)\n",
      "Requirement already satisfied: pytz>=2017.2 in c:\\users\\kali\\appdata\\roaming\\python\\python37\\site-packages (from pandas>=0.24.2->mlxtend) (2018.7)\n",
      "Requirement already satisfied: six in c:\\users\\kali\\appdata\\roaming\\python\\python37\\site-packages (from cycler>=0.10->matplotlib>=3.0.0->mlxtend) (1.11.0)\n",
      "Requirement already satisfied: scikit-plot in c:\\users\\kali\\anaconda3\\lib\\site-packages (0.3.7)\n",
      "Requirement already satisfied: scikit-learn>=0.18 in c:\\users\\kali\\anaconda3\\lib\\site-packages (from scikit-plot) (0.22.1)\n",
      "Requirement already satisfied: matplotlib>=1.4.0 in c:\\users\\kali\\appdata\\roaming\\python\\python37\\site-packages (from scikit-plot) (3.0.2)\n",
      "Requirement already satisfied: scipy>=0.9 in c:\\users\\kali\\anaconda3\\lib\\site-packages (from scikit-plot) (1.4.1)\n",
      "Requirement already satisfied: joblib>=0.10 in c:\\users\\kali\\anaconda3\\lib\\site-packages (from scikit-plot) (0.14.1)\n",
      "Requirement already satisfied: numpy>=1.11.0 in c:\\users\\kali\\anaconda3\\lib\\site-packages (from scikit-learn>=0.18->scikit-plot) (1.18.1)\n",
      "Requirement already satisfied: cycler>=0.10 in c:\\users\\kali\\appdata\\roaming\\python\\python37\\site-packages (from matplotlib>=1.4.0->scikit-plot) (0.10.0)\n",
      "Requirement already satisfied: pyparsing!=2.0.4,!=2.1.2,!=2.1.6,>=2.0.1 in c:\\users\\kali\\appdata\\roaming\\python\\python37\\site-packages (from matplotlib>=1.4.0->scikit-plot) (2.3.0)\n",
      "Requirement already satisfied: kiwisolver>=1.0.1 in c:\\users\\kali\\appdata\\roaming\\python\\python37\\site-packages (from matplotlib>=1.4.0->scikit-plot) (1.0.1)\n",
      "Requirement already satisfied: python-dateutil>=2.1 in c:\\users\\kali\\appdata\\roaming\\python\\python37\\site-packages (from matplotlib>=1.4.0->scikit-plot) (2.7.5)\n",
      "Requirement already satisfied: six in c:\\users\\kali\\appdata\\roaming\\python\\python37\\site-packages (from cycler>=0.10->matplotlib>=1.4.0->scikit-plot) (1.11.0)\n",
      "Requirement already satisfied: setuptools in c:\\users\\kali\\anaconda3\\lib\\site-packages (from kiwisolver>=1.0.1->matplotlib>=1.4.0->scikit-plot) (45.2.0.post20200210)\n"
     ]
    }
   ],
   "source": [
    "!pip install mlxtend\n",
    "!pip install scikit-plot"
   ]
  },
  {
   "cell_type": "code",
   "execution_count": 17,
   "metadata": {},
   "outputs": [],
   "source": [
    "%config IPCompleter.greedy=True\n",
    "import pandas as pd\n",
    "import seaborn as sns\n",
    "import numpy as np\n",
    "\n",
    "import matplotlib as matplot\n",
    "import matplotlib.pyplot as plt\n",
    "%matplotlib inline\n",
    "\n",
    "from IPython.core.interactiveshell import InteractiveShell\n",
    "InteractiveShell.ast_node_interactivity = \"all\"\n",
    "\n",
    "import warnings\n",
    "# warnings.filterwarnings(\"ignore\")\n",
    "\n",
    "from sklearn.metrics import *\n",
    "from sklearn.tree import DecisionTreeClassifier\n",
    "from sklearn.ensemble import RandomForestClassifier, ExtraTreesClassifier, VotingClassifier\n",
    "from sklearn.model_selection import train_test_split\n",
    "from sklearn.preprocessing import LabelEncoder, normalize, StandardScaler\n",
    "from sklearn.decomposition import PCA\n",
    "from mlxtend.classifier import EnsembleVoteClassifier\n",
    "import scikitplot"
   ]
  },
  {
   "cell_type": "code",
   "execution_count": 3,
   "metadata": {},
   "outputs": [],
   "source": [
    "train = pd.read_csv('https://raw.githubusercontent.com/Nir-J/ML-Projects/master/UNSW-Network_Packet_Classification/UNSW_NB15_training-set.csv')\n",
    "test = pd.read_csv('https://raw.githubusercontent.com/Nir-J/ML-Projects/master/UNSW-Network_Packet_Classification/UNSW_NB15_testing-set.csv')\n",
    "combined_data = pd.concat([train, test]).drop(['id', 'label'],axis=1) # 'attack_cat' is out label"
   ]
  },
  {
   "cell_type": "code",
   "execution_count": 4,
   "metadata": {},
   "outputs": [
    {
     "data": {
      "text/html": [
       "<div>\n",
       "<style scoped>\n",
       "    .dataframe tbody tr th:only-of-type {\n",
       "        vertical-align: middle;\n",
       "    }\n",
       "\n",
       "    .dataframe tbody tr th {\n",
       "        vertical-align: top;\n",
       "    }\n",
       "\n",
       "    .dataframe thead th {\n",
       "        text-align: right;\n",
       "    }\n",
       "</style>\n",
       "<table border=\"1\" class=\"dataframe\">\n",
       "  <thead>\n",
       "    <tr style=\"text-align: right;\">\n",
       "      <th></th>\n",
       "      <th>dur</th>\n",
       "      <th>proto</th>\n",
       "      <th>service</th>\n",
       "      <th>state</th>\n",
       "      <th>spkts</th>\n",
       "      <th>dpkts</th>\n",
       "      <th>sbytes</th>\n",
       "      <th>dbytes</th>\n",
       "      <th>rate</th>\n",
       "      <th>sttl</th>\n",
       "      <th>...</th>\n",
       "      <th>ct_src_dport_ltm</th>\n",
       "      <th>ct_dst_sport_ltm</th>\n",
       "      <th>ct_dst_src_ltm</th>\n",
       "      <th>is_ftp_login</th>\n",
       "      <th>ct_ftp_cmd</th>\n",
       "      <th>ct_flw_http_mthd</th>\n",
       "      <th>ct_src_ltm</th>\n",
       "      <th>ct_srv_dst</th>\n",
       "      <th>is_sm_ips_ports</th>\n",
       "      <th>attack_cat</th>\n",
       "    </tr>\n",
       "  </thead>\n",
       "  <tbody>\n",
       "    <tr>\n",
       "      <th>0</th>\n",
       "      <td>0.121478</td>\n",
       "      <td>tcp</td>\n",
       "      <td>-</td>\n",
       "      <td>FIN</td>\n",
       "      <td>6</td>\n",
       "      <td>4</td>\n",
       "      <td>258</td>\n",
       "      <td>172</td>\n",
       "      <td>74.087490</td>\n",
       "      <td>252</td>\n",
       "      <td>...</td>\n",
       "      <td>1</td>\n",
       "      <td>1</td>\n",
       "      <td>1</td>\n",
       "      <td>0</td>\n",
       "      <td>0</td>\n",
       "      <td>0</td>\n",
       "      <td>1</td>\n",
       "      <td>1</td>\n",
       "      <td>0</td>\n",
       "      <td>Normal</td>\n",
       "    </tr>\n",
       "    <tr>\n",
       "      <th>1</th>\n",
       "      <td>0.649902</td>\n",
       "      <td>tcp</td>\n",
       "      <td>-</td>\n",
       "      <td>FIN</td>\n",
       "      <td>14</td>\n",
       "      <td>38</td>\n",
       "      <td>734</td>\n",
       "      <td>42014</td>\n",
       "      <td>78.473372</td>\n",
       "      <td>62</td>\n",
       "      <td>...</td>\n",
       "      <td>1</td>\n",
       "      <td>1</td>\n",
       "      <td>2</td>\n",
       "      <td>0</td>\n",
       "      <td>0</td>\n",
       "      <td>0</td>\n",
       "      <td>1</td>\n",
       "      <td>6</td>\n",
       "      <td>0</td>\n",
       "      <td>Normal</td>\n",
       "    </tr>\n",
       "    <tr>\n",
       "      <th>2</th>\n",
       "      <td>1.623129</td>\n",
       "      <td>tcp</td>\n",
       "      <td>-</td>\n",
       "      <td>FIN</td>\n",
       "      <td>8</td>\n",
       "      <td>16</td>\n",
       "      <td>364</td>\n",
       "      <td>13186</td>\n",
       "      <td>14.170161</td>\n",
       "      <td>62</td>\n",
       "      <td>...</td>\n",
       "      <td>1</td>\n",
       "      <td>1</td>\n",
       "      <td>3</td>\n",
       "      <td>0</td>\n",
       "      <td>0</td>\n",
       "      <td>0</td>\n",
       "      <td>2</td>\n",
       "      <td>6</td>\n",
       "      <td>0</td>\n",
       "      <td>Normal</td>\n",
       "    </tr>\n",
       "  </tbody>\n",
       "</table>\n",
       "<p>3 rows × 43 columns</p>\n",
       "</div>"
      ],
      "text/plain": [
       "        dur proto service state  spkts  dpkts  sbytes  dbytes       rate  \\\n",
       "0  0.121478   tcp       -   FIN      6      4     258     172  74.087490   \n",
       "1  0.649902   tcp       -   FIN     14     38     734   42014  78.473372   \n",
       "2  1.623129   tcp       -   FIN      8     16     364   13186  14.170161   \n",
       "\n",
       "   sttl  ...  ct_src_dport_ltm  ct_dst_sport_ltm  ct_dst_src_ltm  \\\n",
       "0   252  ...                 1                 1               1   \n",
       "1    62  ...                 1                 1               2   \n",
       "2    62  ...                 1                 1               3   \n",
       "\n",
       "   is_ftp_login  ct_ftp_cmd  ct_flw_http_mthd  ct_src_ltm  ct_srv_dst  \\\n",
       "0             0           0                 0           1           1   \n",
       "1             0           0                 0           1           6   \n",
       "2             0           0                 0           2           6   \n",
       "\n",
       "   is_sm_ips_ports  attack_cat  \n",
       "0                0      Normal  \n",
       "1                0      Normal  \n",
       "2                0      Normal  \n",
       "\n",
       "[3 rows x 43 columns]"
      ]
     },
     "execution_count": 4,
     "metadata": {},
     "output_type": "execute_result"
    }
   ],
   "source": [
    "combined_data.head(3)"
   ]
  },
  {
   "cell_type": "code",
   "execution_count": 5,
   "metadata": {},
   "outputs": [
    {
     "name": "stdout",
     "output_type": "stream",
     "text": [
      "portion of non malicious data in train 0.3194\n",
      "portion of non malicious data in test  0.4494\n",
      "portion of non malicious data          0.3609\n"
     ]
    }
   ],
   "source": [
    "tmp = train[train['attack_cat'] == \"Normal\"]\n",
    "print('portion of non malicious data in train {:.4}'.format(len(tmp['attack_cat'])/len(train['attack_cat'])))\n",
    "\n",
    "tmp = test.where(test['attack_cat'] == \"Normal\").dropna()\n",
    "print('portion of non malicious data in test  {:.4}'.format(len(tmp['attack_cat'])/len(test['attack_cat'])))\n",
    "\n",
    "tmp = combined_data.where(combined_data['attack_cat'] == \"Normal\").dropna()\n",
    "contamination = len(tmp['attack_cat'])/len(combined_data['attack_cat'])\n",
    "print('portion of non malicious data          {:.4}'.format(contamination))"
   ]
  },
  {
   "cell_type": "code",
   "execution_count": 6,
   "metadata": {},
   "outputs": [
    {
     "name": "stdout",
     "output_type": "stream",
     "text": [
      "attack cat: {'Reconnaissance', 'Fuzzers', 'Shellcode', 'DoS', 'Exploits', 'Generic', 'Backdoor', 'Analysis', 'Worms', 'Normal'}\n",
      "\n",
      "Describing attack_type: \n",
      "min Analysis\n",
      "max Worms\n",
      "mode 0    Normal\n",
      "dtype: object\n",
      "mode 0.0 %\n",
      "looks like 6 is 'normal', but its not that common\n"
     ]
    }
   ],
   "source": [
    "le_attack_cat = LabelEncoder()\n",
    "le = LabelEncoder()\n",
    "\n",
    "vector = combined_data['attack_cat']\n",
    "\n",
    "print(\"attack cat:\", set(list(vector))) # use print to make it print on single line \n",
    "\n",
    "combined_data['attack_cat'] = le_attack_cat.fit_transform(vector)\n",
    "combined_data['proto'] = le.fit_transform(combined_data['proto'])\n",
    "combined_data['service'] = le.fit_transform(combined_data['service'])\n",
    "combined_data['state'] = le.fit_transform(combined_data['state'])\n",
    "\n",
    "print('\\nDescribing attack_type: ')\n",
    "print(\"min\", vector.min())\n",
    "print(\"max\", vector.max())\n",
    "print(\"mode\",vector.mode())\n",
    "print(\"mode\", len(np.where(vector.values==6)[0])/len(vector),\"%\")\n",
    "print(\"looks like 6 is 'normal', but its not that common\")"
   ]
  },
  {
   "cell_type": "code",
   "execution_count": 7,
   "metadata": {},
   "outputs": [
    {
     "data": {
      "text/plain": [
       "array(['Analysis', 'Backdoor', 'DoS', 'Exploits', 'Fuzzers', 'Generic',\n",
       "       'Normal', 'Reconnaissance', 'Shellcode', 'Worms'], dtype=object)"
      ]
     },
     "execution_count": 7,
     "metadata": {},
     "output_type": "execute_result"
    }
   ],
   "source": [
    "le_attack_cat.inverse_transform([0,1,2,3,4,5,6,7,8,9])"
   ]
  },
  {
   "cell_type": "code",
   "execution_count": 8,
   "metadata": {},
   "outputs": [
    {
     "data": {
      "text/plain": [
       "(64418, 42)"
      ]
     },
     "execution_count": 8,
     "metadata": {},
     "output_type": "execute_result"
    },
    {
     "data": {
      "text/plain": [
       "(193255, 42)"
      ]
     },
     "execution_count": 8,
     "metadata": {},
     "output_type": "execute_result"
    }
   ],
   "source": [
    "data_x = combined_data.drop(['attack_cat'], axis=1) # droped label\n",
    "data_y = combined_data.loc[:,['attack_cat']]\n",
    "data_y = data_y.values.ravel() # to array, then unnest\n",
    "\n",
    "X_train, X_test, y_train, y_test = train_test_split(data_x, data_y, test_size=0.75, random_state=42) #TODO; yes, this is indeed intensional\n",
    "\n",
    "X_train.shape\n",
    "X_test.shape"
   ]
  },
  {
   "cell_type": "markdown",
   "metadata": {},
   "source": [
    "## Visualization"
   ]
  },
  {
   "cell_type": "code",
   "execution_count": 9,
   "metadata": {},
   "outputs": [
    {
     "name": "stdout",
     "output_type": "stream",
     "text": [
      "Populating the interactive namespace from numpy and matplotlib\n"
     ]
    },
    {
     "name": "stderr",
     "output_type": "stream",
     "text": [
      "C:\\Users\\kali\\AppData\\Roaming\\Python\\Python37\\site-packages\\IPython\\core\\magics\\pylab.py:160: UserWarning: pylab import has clobbered these variables: ['pylab', 'test']\n",
      "`%matplotlib` prevents importing * from pylab and numpy\n",
      "  \"\\n`%matplotlib` prevents importing * from pylab and numpy\"\n"
     ]
    }
   ],
   "source": [
    "from matplotlib import pyplot as plt\n",
    "from sklearn.manifold import TSNE\n",
    "\n",
    "import pylab\n",
    "from mpl_toolkits.mplot3d import Axes3D\n",
    "from mpl_toolkits.mplot3d import proj3d\n",
    "%pylab inline"
   ]
  },
  {
   "cell_type": "code",
   "execution_count": 10,
   "metadata": {},
   "outputs": [
    {
     "data": {
      "text/plain": [
       "<Figure size 648x432 with 0 Axes>"
      ]
     },
     "execution_count": 10,
     "metadata": {},
     "output_type": "execute_result"
    },
    {
     "data": {
      "text/plain": [
       "<matplotlib.collections.PathCollection at 0x28a84a35088>"
      ]
     },
     "execution_count": 10,
     "metadata": {},
     "output_type": "execute_result"
    },
    {
     "data": {
      "text/plain": [
       "Text(0.5, 1.0, 'TSNE(2)')"
      ]
     },
     "execution_count": 10,
     "metadata": {},
     "output_type": "execute_result"
    },
    {
     "data": {
      "image/png": "[encoded data removed]",
      "text/plain": [
       "<Figure size 648x432 with 1 Axes>"
      ]
     },
     "metadata": {
      "needs_background": "light"
     },
     "output_type": "display_data"
    }
   ],
   "source": [
    "#TSNE(2) == StandardScaler( TSNE(2) )\n",
    "# x, y = list(zip(*StandardScaler().fit_transform(TSNE(n_components=2, random_state=0).fit_transform(X_train[:900]))))\n",
    "x, y = list(zip(*(TSNE(n_components=2, random_state=0).fit_transform(X_train[:900]))))\n",
    "\n",
    "plt.figure(figsize=(9, 6))\n",
    "plt.scatter(x, y)\n",
    "plt.title('TSNE(2)')\n",
    "plt.show()"
   ]
  },
  {
   "cell_type": "code",
   "execution_count": 11,
   "metadata": {},
   "outputs": [
    {
     "data": {
      "text/plain": [
       "Text(0.5, 0.92, 'TSNE(3)')"
      ]
     },
     "execution_count": 11,
     "metadata": {},
     "output_type": "execute_result"
    },
    {
     "data": {
      "image/png": "[encoded data removed]",
      "text/plain": [
       "<Figure size 432x288 with 1 Axes>"
      ]
     },
     "metadata": {
      "needs_background": "light"
     },
     "output_type": "display_data"
    }
   ],
   "source": [
    "#TSNE(3)\n",
    "data = TSNE(n_components=3, random_state=12).fit_transform(X_train[:900])\n",
    "x, y, z = list(zip(*data))\n",
    "\n",
    "fig = pylab.figure()\n",
    "ax = fig.add_subplot(111, projection = '3d')\n",
    "plt.title('TSNE(3)')\n",
    "sc = ax.scatter(x,y,z)"
   ]
  },
  {
   "cell_type": "code",
   "execution_count": 12,
   "metadata": {},
   "outputs": [
    {
     "data": {
      "text/plain": [
       "<Figure size 648x432 with 0 Axes>"
      ]
     },
     "execution_count": 12,
     "metadata": {},
     "output_type": "execute_result"
    },
    {
     "data": {
      "text/plain": [
       "<matplotlib.collections.PathCollection at 0x28a8645fa88>"
      ]
     },
     "execution_count": 12,
     "metadata": {},
     "output_type": "execute_result"
    },
    {
     "data": {
      "text/plain": [
       "Text(0.5, 1.0, 'PCA(2)')"
      ]
     },
     "execution_count": 12,
     "metadata": {},
     "output_type": "execute_result"
    },
    {
     "data": {
      "image/png": "[encoded data removed]",
      "text/plain": [
       "<Figure size 648x432 with 1 Axes>"
      ]
     },
     "metadata": {
      "needs_background": "light"
     },
     "output_type": "display_data"
    }
   ],
   "source": [
    "# PCA(2)\n",
    "x, y = list(zip(*StandardScaler().fit_transform(PCA(2).fit_transform(X_train[:2000]))))\n",
    "\n",
    "plt.figure(figsize=(9, 6))\n",
    "plt.scatter(x, y)\n",
    "plt.title('PCA(2)')\n",
    "plt.show()"
   ]
  },
  {
   "cell_type": "code",
   "execution_count": 13,
   "metadata": {},
   "outputs": [
    {
     "data": {
      "text/plain": [
       "Text(0.5, 0.92, 'PCA(3)')"
      ]
     },
     "execution_count": 13,
     "metadata": {},
     "output_type": "execute_result"
    },
    {
     "data": {
      "image/png": "[encoded data removed]",
      "text/plain": [
       "<Figure size 432x288 with 1 Axes>"
      ]
     },
     "metadata": {
      "needs_background": "light"
     },
     "output_type": "display_data"
    }
   ],
   "source": [
    "# PCA(3)\n",
    "x, y, z = list(zip(*StandardScaler().fit_transform(PCA(3).fit_transform(X_train[:900]))))\n",
    "\n",
    "fig = pylab.figure()\n",
    "ax = fig.add_subplot(111, projection = '3d')\n",
    "plt.title('PCA(3)')\n",
    "sc = ax.scatter(x,y,z)"
   ]
  },
  {
   "cell_type": "markdown",
   "metadata": {},
   "source": [
    "## On to the Intrusion Detection\n",
    "\n",
    "### Grab some ensemble \n",
    " [github.com/alik604/The-Best-Ensemble](github.com/alik604/The-Best-Ensemble)"
   ]
  },
  {
   "cell_type": "code",
   "execution_count": 15,
   "metadata": {},
   "outputs": [
    {
     "name": "stdout",
     "output_type": "stream",
     "text": [
      "Acc: 0.78741 for the DecisionTreeClassifier\n",
      "Acc: 0.81760 for the RandomForestClassifier\n",
      "Acc: 0.81251 for the ExtraTreesClassifier\n",
      "Acc: 0.82645 for the XGBClassifier\n",
      "Acc: 0.82493 for the LGBMClassifier\n"
     ]
    }
   ],
   "source": [
    "import xgboost\n",
    "import lightgbm\n",
    "\n",
    "DTC = DecisionTreeClassifier()\n",
    "RFC = RandomForestClassifier(n_estimators=250, random_state=42, n_jobs=-1)\n",
    "ETC = ExtraTreesClassifier(n_estimators=250, random_state=42, n_jobs=-1)\n",
    "XGB = xgboost.XGBClassifier(n_estimators=150, n_jobs=-1)\n",
    "GBM = lightgbm.LGBMClassifier(n_estimators= 150, objective='multiclass')\n",
    "\n",
    "list_of_CLFs_names = []\n",
    "list_of_CLFs = [DTC, RFC, ETC, XGB, GBM]\n",
    "ranking = []\n",
    "\n",
    "for clf in list_of_CLFs:\n",
    "    _ = clf.fit(X_train,y_train)\n",
    "    pred = clf.score(X_test,y_test)\n",
    "    name = str(type(clf)).split(\".\")[-1][:-2]\n",
    "    print(\"Acc: %0.5f for the %s\" % (pred, name))\n",
    "\n",
    "    ranking.append(pred)\n",
    "    list_of_CLFs_names.append(name)"
   ]
  },
  {
   "cell_type": "code",
   "execution_count": 16,
   "metadata": {},
   "outputs": [
    {
     "name": "stdout",
     "output_type": "stream",
     "text": [
      "['DecisionTreeClassifier', 'RandomForestClassifier', 'ExtraTreesClassifier', 'XGBClassifier', 'LGBMClassifier']\n",
      "[-0.0137021   0.01649116  0.01140462  0.02534475  0.02382345]\n",
      "[-0.02637448  0.00381879 -0.00126776  0.01267238  0.01115107]\n"
     ]
    }
   ],
   "source": [
    "best = max(ranking)\n",
    "avg = sum(ranking)/len(ranking)\n",
    "variance = avg - best\n",
    "to_remove = ranking - avg - variance\n",
    "to_remove_alt = ranking - best - variance\n",
    "print(list_of_CLFs_names)\n",
    "print(to_remove)\n",
    "print(to_remove_alt)\n",
    "ranking = np.array(ranking)[to_remove > 0]\n",
    "list_of_CLFs = np.array(list_of_CLFs)[to_remove > 0]"
   ]
  },
  {
   "cell_type": "code",
   "execution_count": 17,
   "metadata": {},
   "outputs": [
    {
     "name": "stderr",
     "output_type": "stream",
     "text": [
      "C:\\Users\\kali\\anaconda3\\lib\\site-packages\\mlxtend\\classifier\\ensemble_vote.py:166: UserWarning: fit_base_estimators=False enforces use_clones to be `False`\n",
      "  warnings.warn(\"fit_base_estimators=False \"\n"
     ]
    },
    {
     "name": "stdout",
     "output_type": "stream",
     "text": [
      "Acc: 0.82384 for the EnsembleVoteClassifier\n"
     ]
    }
   ],
   "source": [
    "eclf = EnsembleVoteClassifier(clfs=list_of_CLFs, fit_base_estimators=False, voting='soft')\n",
    "_ = eclf.fit(X_train, y_train)\n",
    "pred = eclf.score(X_test, y_test)\n",
    "print(\"Acc: %0.5f for the %s\" % (pred, str(type(eclf)).split(\".\")[-1][:-2]))"
   ]
  },
  {
   "cell_type": "code",
   "execution_count": 18,
   "metadata": {},
   "outputs": [
    {
     "data": {
      "text/plain": [
       "<matplotlib.axes._subplots.AxesSubplot at 0x28a98f62c48>"
      ]
     },
     "execution_count": 18,
     "metadata": {},
     "output_type": "execute_result"
    },
    {
     "data": {
      "image/png": "[encoded data removed]",
      "text/plain": [
       "<Figure size 432x288 with 1 Axes>"
      ]
     },
     "metadata": {
      "needs_background": "light"
     },
     "output_type": "display_data"
    },
    {
     "data": {
      "text/html": [
       "<div>\n",
       "<style scoped>\n",
       "    .dataframe tbody tr th:only-of-type {\n",
       "        vertical-align: middle;\n",
       "    }\n",
       "\n",
       "    .dataframe tbody tr th {\n",
       "        vertical-align: top;\n",
       "    }\n",
       "\n",
       "    .dataframe thead th {\n",
       "        text-align: right;\n",
       "    }\n",
       "</style>\n",
       "<table border=\"1\" class=\"dataframe\">\n",
       "  <thead>\n",
       "    <tr style=\"text-align: right;\">\n",
       "      <th></th>\n",
       "      <th>0</th>\n",
       "      <th>1</th>\n",
       "      <th>2</th>\n",
       "      <th>3</th>\n",
       "      <th>4</th>\n",
       "      <th>5</th>\n",
       "      <th>6</th>\n",
       "      <th>7</th>\n",
       "      <th>8</th>\n",
       "      <th>9</th>\n",
       "    </tr>\n",
       "  </thead>\n",
       "  <tbody>\n",
       "    <tr>\n",
       "      <th>out</th>\n",
       "      <td>Analysis</td>\n",
       "      <td>Backdoor</td>\n",
       "      <td>DoS</td>\n",
       "      <td>Exploits</td>\n",
       "      <td>Fuzzers</td>\n",
       "      <td>Generic</td>\n",
       "      <td>Normal</td>\n",
       "      <td>Reconnaissance</td>\n",
       "      <td>Shellcode</td>\n",
       "      <td>Worms</td>\n",
       "    </tr>\n",
       "  </tbody>\n",
       "</table>\n",
       "</div>"
      ],
      "text/plain": [
       "            0         1    2         3        4        5       6  \\\n",
       "out  Analysis  Backdoor  DoS  Exploits  Fuzzers  Generic  Normal   \n",
       "\n",
       "                  7          8      9  \n",
       "out  Reconnaissance  Shellcode  Worms  "
      ]
     },
     "execution_count": 18,
     "metadata": {},
     "output_type": "execute_result"
    }
   ],
   "source": [
    "pd.DataFrame({'out': le_attack_cat.inverse_transform([0,1,2,3,4,5,6,7,8,9])}).T\n",
    "\n",
    "# pred = eclf.predict(X_test)\n",
    "probas = eclf.predict_proba(X_test)\n",
    "scikitplot.metrics.plot_roc(y_true=y_test, y_probas=probas) # \n",
    "plt.show()"
   ]
  },
  {
   "cell_type": "markdown",
   "metadata": {},
   "source": [
    "## Using PYOD & SUOD\n",
    "https://github.com/yzhao062/PYOD\n",
    "\n",
    "https://github.com/yzhao062/SUOD"
   ]
  },
  {
   "cell_type": "code",
   "execution_count": 9,
   "metadata": {},
   "outputs": [],
   "source": [
    "from suod.models.base import SUOD\n",
    "from pyod.models import lof, cblof, cof, pca, iforest, knn, mcd, ocsvm, sod, abod, hbos #, auto_encoder, vae\n",
    "\n",
    "# initialize a set of base outlier detectors to train and predict on\n",
    "base_estimators = [\n",
    "#     knn.KNN(n_neighbors=5,  contamination=contamination, radius=1.5),\n",
    "#     knn.KNN(n_neighbors=15, contamination=contamination, radius=1.5),\n",
    "    knn.KNN(n_neighbors=25, contamination=contamination, radius=1.5),\n",
    "#     lof.LOF(n_neighbors=5,  contamination=contamination),\n",
    "#     lof.LOF(n_neighbors=15, contamination=contamination),\n",
    "    lof.LOF(n_neighbors=25, contamination=contamination),\n",
    "    cblof.CBLOF(contamination=contamination, n_clusters=45),\n",
    "#     hbos.HBOS(contamination=0.01, n_bins=10, tol=0.1),\n",
    "#     pca.PCA(contamination=contamination),\n",
    "#     iforest.IForest(contamination=contamination, n_estimators=300, max_samples=1028),\n",
    "#     mcd.MCD(contamination=contamination),\n",
    "#     ocsvm.OCSVM(contamination=contamination, ),\n",
    "    abod.ABOD(contamination=contamination, n_neighbors=10),\n",
    "                    ## not compatible\n",
    "#     cof.COF(contamination=contamination),\n",
    "#     sod.SOD(contamination=contamination, n_neighbors=25),\n",
    "]\n",
    "\n",
    "# initialize a SUOD model with all features turned on\n",
    "model = SUOD(base_estimators=base_estimators, n_jobs=3,  # number of workers\n",
    "             rp_flag_global=True,  # global flag for random projection\n",
    "             bps_flag=True,  # global flag for balanced parallel scheduling\n",
    "             approx_flag_global=False,  # global flag for model approximation\n",
    "             contamination=contamination)\n",
    "\n",
    "model.fit(X_train)  # fit all models with X\n",
    "model.approximate(X_train)  # conduct model approximation if it is enabled\n",
    "predicted_labels = model.predict(X_train)  # predict labels\n",
    "predicted_probs = model.predict_proba(X_train)  # predict outlying probability\n",
    "predicted_scores = model.decision_function(X_train)  # predict scores"
   ]
  },
  {
   "cell_type": "code",
   "execution_count": 23,
   "metadata": {},
   "outputs": [
    {
     "name": "stdout",
     "output_type": "stream",
     "text": [
      "Worker 1 sum of ranks: 3.25\n",
      "Worker 2 sum of ranks: 3.25\n",
      "Worker 3 sum of ranks: 0.0\n",
      "\n",
      "Split among workers BPS: [0, 2, 4, 4] [2, 2, 0]\n"
     ]
    },
    {
     "name": "stderr",
     "output_type": "stream",
     "text": [
      "[Parallel(n_jobs=3)]: Using backend LokyBackend with 3 concurrent workers.\n"
     ]
    },
    {
     "name": "stdout",
     "output_type": "stream",
     "text": [
      "Average Votes as \"Evil\", per \"Evil\" point 1.6112279872355513\n"
     ]
    },
    {
     "name": "stderr",
     "output_type": "stream",
     "text": [
      "[Parallel(n_jobs=3)]: Done   3 out of   3 | elapsed:   22.8s finished\n"
     ]
    }
   ],
   "source": [
    "# # how many CLFs voted for datapoint to be considered \"Evil\", INDEX\n",
    "# sum_by_row = np.sum(model.predict(X_train), axis=1) \n",
    "# data = np.sort(sum_by_row)\n",
    "# data_idx = np.argsort(sum_by_row)\n",
    "\n",
    "# tuples = zip(data, data_idx) ## doesn't copy the elements of these two sequences, but generates a new set of references to these\n",
    "# sorted_tuples = sorted(tuples, key = lambda tup: tup[0], reverse=True)\n",
    "\n",
    "# sorted_tuples = [tup for tup in sorted_tuples if tup[0] != 0]\n",
    "# # print('Format: (#Votes to CLF as \"Evil\", INDEX)', sorted_tuples)\n",
    "# print('Average Votes as \"Evil\", per \"Evil\" point', np.mean(sum_by_row[sum_by_row != 0]))\n",
    "\n",
    "\n",
    "# MIN_NUMBER_VOTES = 3\n",
    "# indexs = [sorted_tuples[i][1] for i in range(len(sorted_tuples)) if sorted_tuples[i][0] >= MIN_NUMBER_VOTES ]\n",
    "# # df = pd.DataFrame(X_train[indexs], columns = columns)\n",
    "# df = X_train.iloc[indexs]\n",
    "# df"
   ]
  },
  {
   "cell_type": "code",
   "execution_count": 99,
   "metadata": {},
   "outputs": [
    {
     "name": "stdout",
     "output_type": "stream",
     "text": [
      "Worker 1 sum of ranks: 3.25\n",
      "Worker 2 sum of ranks: 3.25\n",
      "Worker 3 sum of ranks: 0.0\n",
      "\n",
      "Split among workers BPS: [0, 2, 4, 4] [2, 2, 0]\n"
     ]
    },
    {
     "name": "stderr",
     "output_type": "stream",
     "text": [
      "[Parallel(n_jobs=3)]: Using backend LokyBackend with 3 concurrent workers.\n",
      "[Parallel(n_jobs=3)]: Done   3 out of   3 | elapsed:   25.4s finished\n"
     ]
    },
    {
     "data": {
      "text/plain": [
       "(64418, 4)"
      ]
     },
     "execution_count": 99,
     "metadata": {},
     "output_type": "execute_result"
    },
    {
     "data": {
      "text/plain": [
       "(64418,)"
      ]
     },
     "execution_count": 99,
     "metadata": {},
     "output_type": "execute_result"
    }
   ],
   "source": [
    "pred = model.predict(X_train)\n",
    "\n",
    "pred.shape\n",
    "np.sum(pred, axis = 1).shape\n",
    "pred_sum = np.sum(pred, axis = 1)\n",
    "\n",
    "threshold = 3\n",
    "for idx, val in enumerate(pred_sum):\n",
    "    if pred_sum[idx] >= threshold:\n",
    "        pred_sum[idx] = 1\n",
    "    else: \n",
    "        pred_sum[idx] = 0"
   ]
  },
  {
   "cell_type": "code",
   "execution_count": 11,
   "metadata": {},
   "outputs": [],
   "source": [
    "idx_for_normal = np.where(le_attack_cat.inverse_transform([0,1,2,3,4,5,6,7,8,9]) == 'Normal')[0][0]\n",
    " \n",
    "\n",
    "tmp  = y_train.copy()\n",
    "ground_truth = []\n",
    "for val in tmp:\n",
    "    if val == idx_for_normal:\n",
    "        ground_truth.append(0)\n",
    "    else:\n",
    "        ground_truth.append(1)\n",
    "# ground_truth    \n",
    "\n",
    "acc = np.sum(ground_truth == pred)/len(ground_truth) # accuracy_score(ground_truth[:10000], pred)\n",
    "print(f'Acc: {acc*100}%')"
   ]
  },
  {
   "cell_type": "code",
   "execution_count": 14,
   "metadata": {},
   "outputs": [],
   "source": [
    "# anomalies = df.index\n",
    "\n",
    "# i = np.where(le_attack_cat.inverse_transform([0,1,2,3,4,5,6,7,8,9]) == 'Normal')[0][0]\n",
    "# i # 6 \n",
    "\n",
    "# # for idx, val in enumerate(y_train):\n",
    "# ground_truth  = y_train.copy()\n",
    "\n",
    "# for idx, val in enumerate(ground_truth):\n",
    "#     if val == 6:\n",
    "#         ground_truth[idx] = 0\n",
    "#     else:\n",
    "#         ground_truth[idx] = 1\n",
    "\n",
    "# anomalies_identified  = 0\n",
    "# for val in anomalies: # array of indexs of 'evil'\n",
    "#     anomalies_identified += ground_truth[val]\n",
    "    \n",
    "# anomalies_identified"
   ]
  },
  {
   "cell_type": "code",
   "execution_count": 46,
   "metadata": {},
   "outputs": [
    {
     "name": "stdout",
     "output_type": "stream",
     "text": [
      "Acc: 53.59%\n"
     ]
    }
   ],
   "source": [
    "acc = clf = lof.LOF(n_neighbors=25, contamination=contamination)\n",
    "_ = clf.fit(X_train[:10000])\n",
    "pred = clf.predict(X_train[:10000])\n",
    "\n",
    "acc = np.sum(ground_truth[:10000] == pred)/len(ground_truth[:10000]) # accuracy_score(ground_truth[:10000], pred) * 100\n",
    "print(f'Acc: {acc*100}%')"
   ]
  },
  {
   "cell_type": "code",
   "execution_count": null,
   "metadata": {},
   "outputs": [],
   "source": [
    "clf = abod.ABOD(contamination=contamination, n_neighbors=40)\n",
    "_ = clf.fit(X_train[:10000])\n",
    "pred = clf.predict(X_train[:10000])\n",
    "\n",
    "acc = np.sum(ground_truth[:10000] == pred)/len(ground_truth[:10000]) # accuracy_score(ground_truth[:10000], pred) * 100\n",
    "print(f'Acc: {acc*100}%')"
   ]
  },
  {
   "cell_type": "code",
   "execution_count": 39,
   "metadata": {},
   "outputs": [
    {
     "name": "stdout",
     "output_type": "stream",
     "text": [
      "Acc: 46.77%\n"
     ]
    }
   ],
   "source": [
    "clf = ocsvm.OCSVM(contamination=contamination, )\n",
    "_ = clf.fit(X_train[:10000])\n",
    "pred = clf.predict(X_train[:10000])\n",
    "\n",
    "acc = np.sum(ground_truth[:10000] == pred)/len(ground_truth[:10000]) # accuracy_score(ground_truth[:10000], pred) * 100\n",
    "print(f'Acc: {acc*100}%')"
   ]
  },
  {
   "cell_type": "code",
   "execution_count": 44,
   "metadata": {},
   "outputs": [
    {
     "name": "stdout",
     "output_type": "stream",
     "text": [
      "__________________________________________________________________________________________________\n",
      "Layer (type)                    Output Shape         Param #     Connected to                     \n",
      "==================================================================================================\n",
      "input_8 (InputLayer)            (None, 42)           0                                            \n",
      "__________________________________________________________________________________________________\n",
      "dense_60 (Dense)                (None, 42)           1806        input_8[0][0]                    \n",
      "__________________________________________________________________________________________________\n",
      "dense_61 (Dense)                (None, 128)          5504        dense_60[0][0]                   \n",
      "__________________________________________________________________________________________________\n",
      "dropout_41 (Dropout)            (None, 128)          0           dense_61[0][0]                   \n",
      "__________________________________________________________________________________________________\n",
      "dense_62 (Dense)                (None, 64)           8256        dropout_41[0][0]                 \n",
      "__________________________________________________________________________________________________\n",
      "dropout_42 (Dropout)            (None, 64)           0           dense_62[0][0]                   \n",
      "__________________________________________________________________________________________________\n",
      "dense_63 (Dense)                (None, 32)           2080        dropout_42[0][0]                 \n",
      "__________________________________________________________________________________________________\n",
      "dropout_43 (Dropout)            (None, 32)           0           dense_63[0][0]                   \n",
      "__________________________________________________________________________________________________\n",
      "dense_64 (Dense)                (None, 4)            132         dropout_43[0][0]                 \n",
      "__________________________________________________________________________________________________\n",
      "dense_65 (Dense)                (None, 4)            132         dropout_43[0][0]                 \n",
      "__________________________________________________________________________________________________\n",
      "lambda_3 (Lambda)               (None, 4)            0           dense_64[0][0]                   \n",
      "                                                                 dense_65[0][0]                   \n",
      "==================================================================================================\n",
      "Total params: 17,910\n",
      "Trainable params: 17,910\n",
      "Non-trainable params: 0\n",
      "__________________________________________________________________________________________________\n",
      "_________________________________________________________________\n",
      "Layer (type)                 Output Shape              Param #   \n",
      "=================================================================\n",
      "input_9 (InputLayer)         (None, 4)                 0         \n",
      "_________________________________________________________________\n",
      "dense_66 (Dense)             (None, 4)                 20        \n",
      "_________________________________________________________________\n",
      "dense_67 (Dense)             (None, 32)                160       \n",
      "_________________________________________________________________\n",
      "dropout_44 (Dropout)         (None, 32)                0         \n",
      "_________________________________________________________________\n",
      "dense_68 (Dense)             (None, 64)                2112      \n",
      "_________________________________________________________________\n",
      "dropout_45 (Dropout)         (None, 64)                0         \n",
      "_________________________________________________________________\n",
      "dense_69 (Dense)             (None, 128)               8320      \n",
      "_________________________________________________________________\n",
      "dropout_46 (Dropout)         (None, 128)               0         \n",
      "_________________________________________________________________\n",
      "dense_70 (Dense)             (None, 42)                5418      \n",
      "=================================================================\n",
      "Total params: 16,030\n",
      "Trainable params: 16,030\n",
      "Non-trainable params: 0\n",
      "_________________________________________________________________\n",
      "_________________________________________________________________\n",
      "Layer (type)                 Output Shape              Param #   \n",
      "=================================================================\n",
      "input_8 (InputLayer)         (None, 42)                0         \n",
      "_________________________________________________________________\n",
      "model_10 (Model)             [(None, 4), (None, 4), (N 17910     \n",
      "_________________________________________________________________\n",
      "model_11 (Model)             (None, 42)                16030     \n",
      "=================================================================\n",
      "Total params: 33,940\n",
      "Trainable params: 33,940\n",
      "Non-trainable params: 0\n",
      "_________________________________________________________________\n",
      "Train on 57976 samples, validate on 6442 samples\n",
      "Epoch 1/15\n",
      "57976/57976 [==============================] - 5s 94us/step - loss: 42.6715 - val_loss: 46.0719\n",
      "Epoch 2/15\n",
      "57976/57976 [==============================] - 4s 65us/step - loss: 41.5520 - val_loss: 46.0698\n",
      "Epoch 3/15\n",
      "57976/57976 [==============================] - 4s 66us/step - loss: 41.5481 - val_loss: 46.0695\n",
      "Epoch 4/15\n",
      "57976/57976 [==============================] - 4s 65us/step - loss: 41.5480 - val_loss: 46.0694\n",
      "Epoch 5/15\n",
      "57976/57976 [==============================] - 4s 66us/step - loss: 41.5479 - val_loss: 46.0694\n",
      "Epoch 6/15\n",
      "57976/57976 [==============================] - 4s 65us/step - loss: 41.5479 - val_loss: 46.0694\n",
      "Epoch 7/15\n",
      "57976/57976 [==============================] - 4s 66us/step - loss: 41.5479 - val_loss: 46.0694\n",
      "Epoch 8/15\n",
      "57976/57976 [==============================] - 4s 65us/step - loss: 41.5479 - val_loss: 46.0694\n",
      "Epoch 9/15\n",
      "57976/57976 [==============================] - 4s 65us/step - loss: 41.5479 - val_loss: 46.0694\n",
      "Epoch 10/15\n",
      "57976/57976 [==============================] - 4s 67us/step - loss: 41.5479 - val_loss: 46.0694\n",
      "Epoch 11/15\n",
      "57976/57976 [==============================] - 4s 65us/step - loss: 41.5479 - val_loss: 46.0694\n",
      "Epoch 12/15\n",
      "57976/57976 [==============================] - 4s 65us/step - loss: 41.5480 - val_loss: 46.0694\n",
      "Epoch 13/15\n",
      "57976/57976 [==============================] - 4s 66us/step - loss: 41.5479 - val_loss: 46.0694\n",
      "Epoch 14/15\n",
      "57976/57976 [==============================] - 4s 67us/step - loss: 41.5479 - val_loss: 46.0694\n",
      "Epoch 15/15\n",
      "57976/57976 [==============================] - 4s 67us/step - loss: 41.5480 - val_loss: 46.0694\n",
      "Acc: 44.18640752584681%\n"
     ]
    }
   ],
   "source": [
    "from pyod.models import so_gaal, auto_encoder, vae\n",
    "data = X_train\n",
    "dim = X_train.shape[1]\n",
    "\n",
    "# model = vae.VAE(contamination=contamination) # 45% acc \n",
    "model = vae.VAE(contamination=contamination, epochs= 15, latent_dim=4) # 45% acc \n",
    "\n",
    "_ = model.fit(data)\n",
    "pred = model.predict(data)\n",
    "acc = np.sum(ground_truth == pred)/len(ground_truth) # accuracy_score(ground_truth[:10000], pred) * 100\n",
    "print(f'Acc: {acc*100}%')"
   ]
  },
  {
   "cell_type": "code",
   "execution_count": 101,
   "metadata": {},
   "outputs": [
    {
     "data": {
      "text/plain": [
       "0.3609225646458884"
      ]
     },
     "execution_count": 101,
     "metadata": {},
     "output_type": "execute_result"
    }
   ],
   "source": [
    "contamination"
   ]
  },
  {
   "cell_type": "code",
   "execution_count": 43,
   "metadata": {},
   "outputs": [
    {
     "data": {
      "text/plain": [
       "(64418, 42)"
      ]
     },
     "execution_count": 43,
     "metadata": {},
     "output_type": "execute_result"
    }
   ],
   "source": [
    "data.shape"
   ]
  },
  {
   "cell_type": "code",
   "execution_count": 26,
   "metadata": {},
   "outputs": [
    {
     "name": "stdout",
     "output_type": "stream",
     "text": [
      "581 µs ± 15.1 µs per loop (mean ± std. dev. of 7 runs, 1000 loops each)\n"
     ]
    }
   ],
   "source": [
    "%%timeit \n",
    "acc = np.sum(ground_truth[:10000] == pred)/len(ground_truth[:10000])\n",
    "\n"
   ]
  },
  {
   "cell_type": "code",
   "execution_count": 29,
   "metadata": {},
   "outputs": [
    {
     "name": "stdout",
     "output_type": "stream",
     "text": [
      "2.03 ms ± 24.1 µs per loop (mean ± std. dev. of 7 runs, 100 loops each)\n"
     ]
    }
   ],
   "source": [
    "%%timeit\n",
    "acc = "
   ]
  },
  {
   "cell_type": "code",
   "execution_count": 105,
   "metadata": {},
   "outputs": [
    {
     "data": {
      "text/plain": [
       "array([6, 5, 6, ..., 5, 5, 1])"
      ]
     },
     "execution_count": 105,
     "metadata": {},
     "output_type": "execute_result"
    }
   ],
   "source": []
  },
  {
   "cell_type": "code",
   "execution_count": null,
   "metadata": {},
   "outputs": [],
   "source": []
  }
 ],
 "metadata": {
  "kernelspec": {
   "display_name": "Python 3",
   "language": "python",
   "name": "python3"
  },
  "language_info": {
   "codemirror_mode": {
    "name": "ipython",
    "version": 3
   },
   "file_extension": ".py",
   "mimetype": "text/x-python",
   "name": "python",
   "nbconvert_exporter": "python",
   "pygments_lexer": "ipython3",
   "version": "3.7.6"
  }
 },
 "nbformat": 4,
 "nbformat_minor": 4
}
