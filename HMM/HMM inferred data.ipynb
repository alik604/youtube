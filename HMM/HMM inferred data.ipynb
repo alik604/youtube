{
 "cells": [
  {
   "cell_type": "markdown",
   "metadata": {},
   "source": [
    "\n",
    "Hidden Markov Model in python - learn prams from data \n",
    "-----------------\n",
    "[Theory explanation: Hidden Markov Models - Bert Huang](https://www.youtube.com/watch?v=9yl4XGp5OEg) || \n",
    "[More scary Code - PyTorch](https://colab.research.google.com/drive/1IUe9lfoIiQsL49atSOgxnCmMR_zJazKI) "
   ]
  },
  {
   "cell_type": "markdown",
   "metadata": {},
   "source": [
    " <img src=\"https://images.slideplayer.com/16/4970773/slides/slide_4.jpg\" alt=\"\" width=\"1000\" height=\"600\">"
   ]
  },
  {
   "cell_type": "markdown",
   "metadata": {},
   "source": [
    "## Preprocessing and baseline"
   ]
  },
  {
   "cell_type": "code",
   "execution_count": 1,
   "metadata": {},
   "outputs": [],
   "source": [
    "from copy import copy, deepcopy\n",
    "import pickle\n",
    "import numpy as np\n",
    "import matplotlib.pyplot as plt\n",
    "import pandas as pd \n",
    "from collections import Counter\n",
    "from scipy import stats\n",
    "from sklearn import metrics\n",
    "from sklearn.ensemble import RandomForestClassifier\n",
    "import mnist\n",
    "%matplotlib inline\n",
    "\n",
    "from hmmlearn.hmm import GaussianHMM, MultinomialHMM\n",
    "\n",
    "from IPython.core.interactiveshell import InteractiveShell\n",
    "InteractiveShell.ast_node_interactivity = \"all\""
   ]
  },
  {
   "cell_type": "code",
   "execution_count": 2,
   "metadata": {},
   "outputs": [
    {
     "name": "stdout",
     "output_type": "stream",
     "text": [
      "(60000, 784)\n",
      "(10000, 784)\n"
     ]
    }
   ],
   "source": [
    "X_train = mnist.train_images()\n",
    "y_train = mnist.train_labels()\n",
    "X_test = mnist.test_images()\n",
    "y_test = mnist.test_labels()\n",
    "\n",
    "y_train = np.array(y_train)\n",
    "y_test = np.array(y_test)\n",
    "\n",
    "# Normalize the images.\n",
    "X_train = (X_train / 255) - 0.5\n",
    "X_test = (X_test / 255) - 0.5\n",
    "\n",
    "# Flatten the images.\n",
    "X_train = X_train.reshape((-1, 784))\n",
    "X_test = X_test.reshape((-1, 784))\n",
    "\n",
    "print(X_train.shape) # (60000, 784)\n",
    "print(X_test.shape)  # (10000, 784)"
   ]
  },
  {
   "cell_type": "code",
   "execution_count": 3,
   "metadata": {},
   "outputs": [
    {
     "name": "stdout",
     "output_type": "stream",
     "text": [
      "Applying a learning algorithm...\n",
      "\n"
     ]
    },
    {
     "data": {
      "text/plain": [
       "RandomForestClassifier(bootstrap=True, ccp_alpha=0.0, class_weight=None,\n",
       "                       criterion='gini', max_depth=None, max_features='auto',\n",
       "                       max_leaf_nodes=None, max_samples=None,\n",
       "                       min_impurity_decrease=0.0, min_impurity_split=None,\n",
       "                       min_samples_leaf=1, min_samples_split=2,\n",
       "                       min_weight_fraction_leaf=0.0, n_estimators=50, n_jobs=4,\n",
       "                       oob_score=False, random_state=None, verbose=0,\n",
       "                       warm_start=False)"
      ]
     },
     "execution_count": 3,
     "metadata": {},
     "output_type": "execute_result"
    },
    {
     "name": "stdout",
     "output_type": "stream",
     "text": [
      "Making predictions...\n",
      "\n",
      "Evaluating results...\n",
      "\n",
      "Accuracy: \t 0.9682\n"
     ]
    }
   ],
   "source": [
    "# Apply a learning algorithm\n",
    "print(\"Applying a learning algorithm...\\n\")\n",
    "clf = RandomForestClassifier(n_estimators=50,n_jobs=4)\n",
    "clf.fit(X_train, y_train)\n",
    "\n",
    "# Make a prediction\n",
    "print(\"Making predictions...\\n\")\n",
    "y_pred = clf.predict(X_test)\n",
    "\n",
    "# Evaluate the prediction\n",
    "print(\"Evaluating results...\\n\")\n",
    "print(\"Accuracy: \\t\", clf.score(X_test, y_test))"
   ]
  },
  {
   "cell_type": "markdown",
   "metadata": {},
   "source": [
    "## HMM\n",
    "\n"
   ]
  },
  {
   "cell_type": "code",
   "execution_count": 4,
   "metadata": {},
   "outputs": [],
   "source": [
    "## load\n",
    "with open(\"model 20k-20iter.pkl\", \"rb\") as file: model = pickle.load(file)"
   ]
  },
  {
   "cell_type": "code",
   "execution_count": 5,
   "metadata": {
    "collapsed": false,
    "jupyter": {
     "outputs_hidden": false
    }
   },
   "outputs": [],
   "source": [
    "## Run \n",
    "# model = GaussianHMM(n_components=10, covariance_type=\"full\", n_iter = 10)\n",
    "# model.fit(X_train[:50000]) # max: 60000"
   ]
  },
  {
   "cell_type": "code",
   "execution_count": 6,
   "metadata": {
    "collapsed": false,
    "jupyter": {
     "outputs_hidden": false
    }
   },
   "outputs": [
    {
     "name": "stdout",
     "output_type": "stream",
     "text": [
      "(784,)\n"
     ]
    }
   ],
   "source": [
    "data = model.sample(15, random_state = None) #random_state/seed is inherited\n",
    "print(data[0][0].shape) "
   ]
  },
  {
   "cell_type": "code",
   "execution_count": 7,
   "metadata": {},
   "outputs": [
    {
     "data": {
      "text/plain": [
       "5"
      ]
     },
     "execution_count": 7,
     "metadata": {},
     "output_type": "execute_result"
    },
    {
     "data": {
      "text/plain": [
       "<matplotlib.image.AxesImage at 0x1e6c6d71108>"
      ]
     },
     "execution_count": 7,
     "metadata": {},
     "output_type": "execute_result"
    },
    {
     "data": {
      "image/png": "[encoded data removed]",
      "text/plain": [
       "<Figure size 432x288 with 1 Axes>"
      ]
     },
     "metadata": {
      "needs_background": "light"
     },
     "output_type": "display_data"
    }
   ],
   "source": [
    "idx = np.random.randint(15)\n",
    "point = data[0][idx]# X_train[0]\n",
    "idx\n",
    "plt.imshow(point.reshape((28, 28)), cmap='gray')\n",
    "plt.show()"
   ]
  },
  {
   "cell_type": "markdown",
   "metadata": {},
   "source": [
    "### Match classes"
   ]
  },
  {
   "cell_type": "code",
   "execution_count": 15,
   "metadata": {},
   "outputs": [
    {
     "name": "stdout",
     "output_type": "stream",
     "text": [
      "Model class: 0 - most common elem(s): [(8, 601), (6, 279), (0, 43)].\t  Our models 0, is considered a 8\n",
      "Model class: 1 - most common elem(s): [(7, 839), (2, 220), (8, 43)].\t  Our models 1, is considered a 7\n",
      "Model class: 2 - most common elem(s): [(5, 537), (0, 252), (8, 149)].\t  Our models 2, is considered a 5\n",
      "Model class: 3 - most common elem(s): [(0, 468), (8, 245), (9, 128)].\t  Our models 3, is considered a 0\n",
      "Model class: 4 - most common elem(s): [(8, 347), (4, 199), (2, 161)].\t  Our models 4, is considered a 8\n",
      "Model class: 5 - most common elem(s): [(8, 348), (9, 292), (0, 156)].\t  Our models 5, is considered a 8\n",
      "Model class: 6 - most common elem(s): [(3, 589), (8, 279), (5, 29)].\t  Our models 6, is considered a 3\n",
      "Model class: 7 - most common elem(s): [(1, 628), (4, 212), (2, 82)].\t  Our models 7, is considered a 1\n",
      "Model class: 8 - most common elem(s): [(8, 355), (9, 189), (2, 152)].\t  Our models 8, is considered a 8\n",
      "Model class: 9 - most common elem(s): [(1, 327), (2, 310), (4, 246)].\t  Our models 9, is considered a 1\n",
      "[[8, 6, 0], [7, 2, 8], [5, 0, 8], [0, 8, 9], [8, 4, 2], [8, 9, 0], [3, 8, 5], [1, 4, 2], [8, 9, 2], [1, 2, 4]]\n"
     ]
    }
   ],
   "source": [
    "ls = [] \n",
    "for i in range(10):\n",
    "    pred = model.predict(X_test[y_test == i])\n",
    "    true_class = Counter(pred).most_common(3)\n",
    "    print(f'Model class: {i} - most common elem(s): {true_class}.\\t  Our models {i}, is considered a {true_class[0][0]}')\n",
    "    ls.append([true_class[0][0], true_class[1][0], true_class[2][0]])\n",
    "\n",
    "print(ls)"
   ]
  },
  {
   "cell_type": "code",
   "execution_count": 16,
   "metadata": {},
   "outputs": [
    {
     "name": "stdout",
     "output_type": "stream",
     "text": [
      "[8, 7, 5, 0, 8, 8, 3, 1, 8, 1]\n",
      "[6, 2, 0, 8, 4, 9, 8, 4, 9, 2]\n",
      "[0, 8, 8, 9, 2, 0, 5, 2, 2, 4]\n",
      "[[8, 6, 0], [7, 2, 8], [5, 0, 8], [0, 8, 9], [8, 4, 2], [8, 9, 0], [3, 8, 5], [1, 4, 2], [8, 9, 2], [1, 2, 4]]\n"
     ]
    }
   ],
   "source": [
    "rankings = deepcopy(ls)\n",
    "assume = [i.pop(0) for i in ls]  \n",
    "second_choice = [i.pop(0) for i in ls]   \n",
    "third_choice = [i.pop(0) for i in ls]\n",
    "\n",
    "    \n",
    "print(assume)\n",
    "print(second_choice)\n",
    "print(third_choice)\n",
    "\n",
    "print(rankings)  "
   ]
  },
  {
   "cell_type": "code",
   "execution_count": 17,
   "metadata": {},
   "outputs": [
    {
     "name": "stdout",
     "output_type": "stream",
     "text": [
      "[8, 7, 5, 0, 8, 8, 3, 1, 8, 1]\n",
      "HMMs pred is 9. mapping[pred] is 1, check if = 0?\n",
      "Mapping: [8, 7, 5, 0, 8, 8, 3, 1, 8, 1]\n",
      "Accuracy with our mapping: 0.31%\n",
      "HMMs pred is 9. mapping[pred] is 1, check if = 0?\n",
      "Mapping: [6, 7, 5, 0, 8, 8, 3, 1, 8, 1]\n",
      "Accuracy with our mapping: 0.31%\n",
      "HMMs pred is 9. mapping[pred] is 1, check if = 0?\n",
      "Mapping: [0, 7, 5, 0, 8, 8, 3, 1, 8, 1]\n",
      "Accuracy with our mapping: 4.69%\n",
      "HMMs pred is 9. mapping[pred] is 1, check if = 1?\n",
      "Mapping: [0, 7, 5, 0, 8, 8, 3, 1, 8, 1]\n",
      "Accuracy with our mapping: 74.45%\n",
      "HMMs pred is 9. mapping[pred] is 1, check if = 1?\n",
      "Mapping: [0, 2, 5, 0, 8, 8, 3, 1, 8, 1]\n",
      "Accuracy with our mapping: 74.45%\n",
      "HMMs pred is 9. mapping[pred] is 1, check if = 1?\n",
      "Mapping: [0, 8, 5, 0, 8, 8, 3, 1, 8, 1]\n",
      "Accuracy with our mapping: 74.45%\n",
      "HMMs pred is 9. mapping[pred] is 1, check if = 2?\n",
      "Mapping: [0, 7, 5, 0, 8, 8, 3, 1, 8, 1]\n",
      "Accuracy with our mapping: 0.00%\n",
      "HMMs pred is 9. mapping[pred] is 1, check if = 2?\n",
      "Mapping: [0, 7, 0, 0, 8, 8, 3, 1, 8, 1]\n",
      "Accuracy with our mapping: 0.00%\n",
      "HMMs pred is 9. mapping[pred] is 1, check if = 2?\n",
      "Mapping: [0, 7, 8, 0, 8, 8, 3, 1, 8, 1]\n",
      "Accuracy with our mapping: 0.00%\n",
      "HMMs pred is 9. mapping[pred] is 1, check if = 3?\n",
      "Mapping: [0, 7, 5, 0, 8, 8, 3, 1, 8, 1]\n",
      "Accuracy with our mapping: 0.20%\n",
      "HMMs pred is 9. mapping[pred] is 1, check if = 3?\n",
      "Mapping: [0, 7, 5, 8, 8, 8, 3, 1, 8, 1]\n",
      "Accuracy with our mapping: 0.20%\n",
      "HMMs pred is 9. mapping[pred] is 1, check if = 3?\n",
      "Mapping: [0, 7, 5, 9, 8, 8, 3, 1, 8, 1]\n",
      "Accuracy with our mapping: 0.20%\n",
      "HMMs pred is 9. mapping[pred] is 1, check if = 4?\n",
      "Mapping: [0, 7, 5, 0, 8, 8, 3, 1, 8, 1]\n",
      "Accuracy with our mapping: 0.00%\n",
      "HMMs pred is 9. mapping[pred] is 1, check if = 4?\n",
      "Mapping: [0, 7, 5, 0, 4, 8, 3, 1, 8, 1]\n",
      "Accuracy with our mapping: 20.26%\n",
      "HMMs pred is 9. mapping[pred] is 1, check if = 4?\n",
      "Mapping: [0, 7, 5, 0, 2, 8, 3, 1, 8, 1]\n",
      "Accuracy with our mapping: 0.00%\n",
      "HMMs pred is 9. mapping[pred] is 1, check if = 5?\n",
      "Mapping: [0, 7, 5, 0, 4, 8, 3, 1, 8, 1]\n",
      "Accuracy with our mapping: 2.91%\n",
      "HMMs pred is 9. mapping[pred] is 1, check if = 5?\n",
      "Mapping: [0, 7, 5, 0, 4, 9, 3, 1, 8, 1]\n",
      "Accuracy with our mapping: 2.91%\n",
      "HMMs pred is 9. mapping[pred] is 1, check if = 5?\n",
      "Mapping: [0, 7, 5, 0, 4, 0, 3, 1, 8, 1]\n",
      "Accuracy with our mapping: 2.91%\n",
      "HMMs pred is 9. mapping[pred] is 1, check if = 6?\n",
      "Mapping: [0, 7, 5, 0, 4, 8, 3, 1, 8, 1]\n",
      "Accuracy with our mapping: 0.00%\n",
      "HMMs pred is 9. mapping[pred] is 1, check if = 6?\n",
      "Mapping: [0, 7, 5, 0, 4, 8, 8, 1, 8, 1]\n",
      "Accuracy with our mapping: 0.00%\n",
      "HMMs pred is 9. mapping[pred] is 1, check if = 6?\n",
      "Mapping: [0, 7, 5, 0, 4, 8, 5, 1, 8, 1]\n",
      "Accuracy with our mapping: 0.00%\n",
      "HMMs pred is 9. mapping[pred] is 1, check if = 7?\n",
      "Mapping: [0, 7, 5, 0, 4, 8, 3, 1, 8, 1]\n",
      "Accuracy with our mapping: 61.09%\n",
      "HMMs pred is 9. mapping[pred] is 1, check if = 7?\n",
      "Mapping: [0, 7, 5, 0, 4, 8, 3, 4, 8, 1]\n",
      "Accuracy with our mapping: 61.09%\n",
      "HMMs pred is 9. mapping[pred] is 1, check if = 7?\n",
      "Mapping: [0, 7, 5, 0, 4, 8, 3, 2, 8, 1]\n",
      "Accuracy with our mapping: 61.09%\n",
      "HMMs pred is 9. mapping[pred] is 1, check if = 8?\n",
      "Mapping: [0, 7, 5, 0, 4, 8, 3, 1, 8, 1]\n",
      "Accuracy with our mapping: 37.06%\n",
      "HMMs pred is 9. mapping[pred] is 1, check if = 8?\n",
      "Mapping: [0, 7, 5, 0, 4, 8, 3, 1, 9, 1]\n",
      "Accuracy with our mapping: 0.62%\n",
      "HMMs pred is 9. mapping[pred] is 1, check if = 8?\n",
      "Mapping: [0, 7, 5, 0, 4, 8, 3, 1, 2, 1]\n",
      "Accuracy with our mapping: 0.62%\n",
      "HMMs pred is 9. mapping[pred] is 1, check if = 9?\n",
      "Mapping: [0, 7, 5, 0, 4, 8, 3, 1, 8, 1]\n",
      "Accuracy with our mapping: 0.00%\n",
      "HMMs pred is 9. mapping[pred] is 2, check if = 9?\n",
      "Mapping: [0, 7, 5, 0, 4, 8, 3, 1, 8, 2]\n",
      "Accuracy with our mapping: 0.00%\n",
      "HMMs pred is 9. mapping[pred] is 4, check if = 9?\n",
      "Mapping: [0, 7, 5, 0, 4, 8, 3, 1, 8, 4]\n",
      "Accuracy with our mapping: 0.00%\n"
     ]
    },
    {
     "data": {
      "text/plain": [
       "[0, 7, 5, 0, 4, 8, 3, 1, 8, 1]"
      ]
     },
     "execution_count": 17,
     "metadata": {},
     "output_type": "execute_result"
    }
   ],
   "source": [
    "# manual changes\n",
    "# ls = [8, 7, 5, 0, 4, 9, 3, 1, 8, 2]\n",
    "\n",
    "def evaluate(mapping, label):\n",
    "\n",
    "    score = 0\n",
    "    points = np.where(y_test==label)[0] # as i recall, this is the same as `y_test == i` \n",
    "    predictions = model.predict(X_test[points])\n",
    "\n",
    "    for idx, pred in enumerate(predictions):\n",
    "        if(idx ==0):\n",
    "            print(f'HMMs pred is {pred}. mapping[pred] is {mapping[pred]}, check if = {label}?')\n",
    "        if(mapping[pred] == label):\n",
    "            score += 1\n",
    "    \n",
    "    acc = score/len(points) * 100\n",
    "    print(f'Mapping: {mapping}')\n",
    "    print(f'Accuracy with our mapping: {acc:.2f}%')\n",
    "    return acc\n",
    "\n",
    "print(assume)\n",
    "\n",
    "for i in range (10): \n",
    "    \n",
    "    #select choices\n",
    "    sec = deepcopy(assume)\n",
    "    sec[i] = second_choice[i]\n",
    "\n",
    "    thir = deepcopy(assume)\n",
    "    thir[i] = third_choice[i]\n",
    "    \n",
    "    # compute & compare\n",
    "    label = i # assume[i]\n",
    "    best = np.argmax([evaluate(assume, label = label), evaluate(sec, label = label), evaluate(thir, label = label)])\n",
    "#     best = np.argmax([evaluate(assume, label = i), evaluate(sec, label = i), evaluate(thir, label = i)]) # first attempt\n",
    "\n",
    "    #update\n",
    "    assume[i] = rankings[i][best]\n",
    "assume"
   ]
  },
  {
   "cell_type": "code",
   "execution_count": 19,
   "metadata": {},
   "outputs": [
    {
     "name": "stdout",
     "output_type": "stream",
     "text": [
      "Accuracy with our mapping: 21.08%\n",
      "What if we called everyting our most common class: 24.10\n"
     ]
    }
   ],
   "source": [
    "assume = [0, 7, 5, 0, 4, 8, 3, 1, 8, 1] #[8, 7, 5, 0, 8, 8, 3, 1, 8, 1]\n",
    "score = 0\n",
    "predictions = model.predict(X_test)\n",
    "for idx, pred in enumerate(predictions):\n",
    "    if(assume[pred] == y_test[idx]):\n",
    "        score += 1\n",
    "\n",
    "print(f'Accuracy with our mapping: {score/len(predictions) * 100:.2f}%')\n",
    "\n",
    "pred = model.predict(X_test)\n",
    "common = stats.mode(pred)[1][0]/pred.shape[0]\n",
    "print(f'What if we called everyting our most common class: {common*100:.2f}')"
   ]
  },
  {
   "cell_type": "code",
   "execution_count": null,
   "metadata": {},
   "outputs": [],
   "source": []
  },
  {
   "cell_type": "code",
   "execution_count": 12,
   "metadata": {},
   "outputs": [
    {
     "data": {
      "text/plain": [
       "GaussianHMM(algorithm='viterbi', covariance_type='full', covars_prior=0.01,\n",
       "            covars_weight=1, init_params='stmc', means_prior=0, means_weight=0,\n",
       "            min_covar=0.001, n_components=10, n_iter=20, params='stmc',\n",
       "            random_state=None, startprob_prior=1.0, tol=0.01,\n",
       "            transmat_prior=1.0, verbose=False)"
      ]
     },
     "execution_count": 12,
     "metadata": {},
     "output_type": "execute_result"
    }
   ],
   "source": [
    "model"
   ]
  },
  {
   "cell_type": "code",
   "execution_count": 13,
   "metadata": {},
   "outputs": [],
   "source": [
    "# save \n",
    "# pickle.dump(model, open(\"model 50k-10iter.pkl\", \"wb\"))"
   ]
  },
  {
   "cell_type": "code",
   "execution_count": 14,
   "metadata": {},
   "outputs": [],
   "source": [
    "# load\n",
    "# with open(\"model.pkl\", \"rb\") as file: pickle.load(file)"
   ]
  },
  {
   "cell_type": "code",
   "execution_count": 11,
   "metadata": {},
   "outputs": [],
   "source": []
  },
  {
   "cell_type": "code",
   "execution_count": null,
   "metadata": {},
   "outputs": [],
   "source": []
  },
  {
   "cell_type": "code",
   "execution_count": null,
   "metadata": {},
   "outputs": [],
   "source": []
  }
 ],
 "metadata": {
  "kernelspec": {
   "display_name": "Python 3",
   "language": "python",
   "name": "python3"
  },
  "language_info": {
   "codemirror_mode": {
    "name": "ipython",
    "version": 3
   },
   "file_extension": ".py",
   "mimetype": "text/x-python",
   "name": "python",
   "nbconvert_exporter": "python",
   "pygments_lexer": "ipython3",
   "version": "3.7.6"
  }
 },
 "nbformat": 4,
 "nbformat_minor": 4
}
