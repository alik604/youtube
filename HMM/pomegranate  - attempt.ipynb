{
 "cells": [
  {
   "cell_type": "code",
   "execution_count": null,
   "metadata": {},
   "outputs": [],
   "source": []
  },
  {
   "cell_type": "code",
   "execution_count": null,
   "metadata": {},
   "outputs": [
    {
     "name": "stdout",
     "output_type": "stream",
     "text": [
      "Requirement already satisfied: pomegranate in c:\\users\\t954349\\anaconda3\\lib\\site-packages (0.13.4)\n",
      "Requirement already satisfied: scipy>=0.17.0 in c:\\users\\t954349\\anaconda3\\lib\\site-packages (from pomegranate) (1.4.1)\n",
      "Requirement already satisfied: pyyaml in c:\\users\\t954349\\anaconda3\\lib\\site-packages (from pomegranate) (5.3)\n",
      "Requirement already satisfied: numpy>=1.8.0 in c:\\users\\t954349\\anaconda3\\lib\\site-packages (from pomegranate) (1.18.1)\n",
      "Requirement already satisfied: networkx>=2.0 in c:\\users\\t954349\\anaconda3\\lib\\site-packages (from pomegranate) (2.4)\n",
      "Requirement already satisfied: joblib>=0.9.0b4 in c:\\users\\t954349\\anaconda3\\lib\\site-packages (from pomegranate) (0.14.1)\n",
      "Requirement already satisfied: decorator>=4.3.0 in c:\\users\\t954349\\anaconda3\\lib\\site-packages (from networkx>=2.0->pomegranate) (4.4.1)\n"
     ]
    }
   ],
   "source": [
    "!pip install pomegranate\n",
    "!pip install pygraphviz "
   ]
  },
  {
   "cell_type": "code",
   "execution_count": 1,
   "metadata": {},
   "outputs": [],
   "source": [
    "import pickle\n",
    "import numpy as np\n",
    "import matplotlib.pyplot as plt\n",
    "import seaborn; seaborn.set_style('whitegrid')\n",
    "import pandas as pd \n",
    "from sklearn import metrics\n",
    "from sklearn.ensemble import RandomForestClassifier\n",
    "import mnist\n",
    "%matplotlib inline\n",
    "\n",
    "from pomegranate import *\n",
    "# import pygraphviz"
   ]
  },
  {
   "cell_type": "code",
   "execution_count": 2,
   "metadata": {},
   "outputs": [
    {
     "name": "stdout",
     "output_type": "stream",
     "text": [
      "(60000, 784)\n",
      "(10000, 784)\n"
     ]
    }
   ],
   "source": [
    "X_train = mnist.train_images()\n",
    "y_train = mnist.train_labels()\n",
    "X_test = mnist.test_images()\n",
    "y_test = mnist.test_labels()\n",
    "\n",
    "# Normalize the images.\n",
    "X_train = (X_train / 255) - 0.5\n",
    "X_test = (X_test / 255) - 0.5\n",
    "\n",
    "# Flatten the images.\n",
    "X_train = X_train.reshape((-1, 784))\n",
    "X_test = X_test.reshape((-1, 784))\n",
    "\n",
    "print(X_train.shape) # (60000, 784)\n",
    "print(X_test.shape)  # (10000, 784)"
   ]
  },
  {
   "cell_type": "code",
   "execution_count": 3,
   "metadata": {},
   "outputs": [
    {
     "name": "stdout",
     "output_type": "stream",
     "text": [
      "Applying a learning algorithm...\n",
      "\n",
      "Making predictions...\n",
      "\n",
      "Evaluating results...\n",
      "\n",
      "Precision: \t 0.9671\n",
      "Recall: \t 0.9671\n",
      "F1 score: \t 0.9671\n",
      "Accuracy: \t 0.9671\n"
     ]
    }
   ],
   "source": [
    "# Apply a learning algorithm\n",
    "print(\"Applying a learning algorithm...\\n\")\n",
    "clf = RandomForestClassifier(n_estimators=50,n_jobs=4)\n",
    "clf.fit(X_train, y_train)\n",
    "\n",
    "# Make a prediction\n",
    "print(\"Making predictions...\\n\")\n",
    "y_pred = clf.predict(X_test)\n",
    "\n",
    "# Evaluate the prediction\n",
    "print(\"Evaluating results...\\n\")\n",
    "print(\"Precision: \\t\", metrics.precision_score(y_test, y_pred, average='micro'))\n",
    "print(\"Recall: \\t\", metrics.recall_score(y_test, y_pred, average='micro'))\n",
    "print(\"F1 score: \\t\", metrics.f1_score(y_test, y_pred, average='micro'))\n",
    "print(\"Accuracy: \\t\", clf.score(X_test, y_test))"
   ]
  },
  {
   "cell_type": "code",
   "execution_count": null,
   "metadata": {},
   "outputs": [],
   "source": [
    "state_names = ['a', 'b', 'c', 'd', 'e', 'f', 'g', 'h', 'i', 'j']\n",
    "\n",
    "model = BayesianNetwork.from_samples(X_train[:100], n_jobs = 2, state_names = state_names)"
   ]
  },
  {
   "cell_type": "code",
   "execution_count": null,
   "metadata": {},
   "outputs": [],
   "source": [
    "model.plot()"
   ]
  },
  {
   "cell_type": "code",
   "execution_count": null,
   "metadata": {},
   "outputs": [],
   "source": [
    "model.structure"
   ]
  },
  {
   "cell_type": "code",
   "execution_count": null,
   "metadata": {},
   "outputs": [],
   "source": [
    "HiddenMarkovModel.from_samples(X_train[:100], 5, X, max_iterations=5)"
   ]
  },
  {
   "cell_type": "code",
   "execution_count": null,
   "metadata": {},
   "outputs": [],
   "source": []
  },
  {
   "cell_type": "code",
   "execution_count": null,
   "metadata": {},
   "outputs": [],
   "source": []
  }
 ],
 "metadata": {
  "kernelspec": {
   "display_name": "Python 3",
   "language": "python",
   "name": "python3"
  },
  "language_info": {
   "codemirror_mode": {
    "name": "ipython",
    "version": 3
   },
   "file_extension": ".py",
   "mimetype": "text/x-python",
   "name": "python",
   "nbconvert_exporter": "python",
   "pygments_lexer": "ipython3",
   "version": "3.7.6"
  }
 },
 "nbformat": 4,
 "nbformat_minor": 4
}
